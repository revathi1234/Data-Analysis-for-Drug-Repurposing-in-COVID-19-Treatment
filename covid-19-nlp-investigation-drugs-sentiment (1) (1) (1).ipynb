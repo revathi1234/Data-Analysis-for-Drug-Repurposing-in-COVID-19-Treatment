{
 "cells": [
  {
   "cell_type": "markdown",
   "metadata": {},
   "source": [
    "REPURPOSING EXISITING DRUGS FOR THE TREATMENT OF COVID-19"
   ]
  },
  {
   "cell_type": "markdown",
   "metadata": {},
   "source": [
    "INSTALLING LIBRARIES AND DEPENDENCIES"
   ]
  },
  {
   "cell_type": "markdown",
   "metadata": {},
   "source": [
    "\n",
    "\n",
    "\n",
    "\n",
    "\n",
    "\n",
    "\n"
   ]
  },
  {
   "cell_type": "code",
   "execution_count": 1,
   "metadata": {},
   "outputs": [
    {
     "name": "stdout",
     "output_type": "stream",
     "text": [
      "Collecting vaderSentiment\n",
      "  Downloading vaderSentiment-3.3.2-py2.py3-none-any.whl (125 kB)\n",
      "\u001b[K     |████████████████████████████████| 125 kB 4.7 MB/s eta 0:00:01\n",
      "\u001b[?25hRequirement already satisfied: requests in /opt/conda/lib/python3.7/site-packages (from vaderSentiment) (2.23.0)\n",
      "Requirement already satisfied: chardet<4,>=3.0.2 in /opt/conda/lib/python3.7/site-packages (from requests->vaderSentiment) (3.0.4)\n",
      "Requirement already satisfied: idna<3,>=2.5 in /opt/conda/lib/python3.7/site-packages (from requests->vaderSentiment) (2.9)\n",
      "Requirement already satisfied: urllib3!=1.25.0,!=1.25.1,<1.26,>=1.21.1 in /opt/conda/lib/python3.7/site-packages (from requests->vaderSentiment) (1.24.3)\n",
      "Requirement already satisfied: certifi>=2017.4.17 in /opt/conda/lib/python3.7/site-packages (from requests->vaderSentiment) (2020.4.5.1)\n",
      "Installing collected packages: vaderSentiment\n",
      "Successfully installed vaderSentiment-3.3.2\n",
      "\u001b[33mWARNING: You are using pip version 20.1; however, version 20.1.1 is available.\n",
      "You should consider upgrading via the '/opt/conda/bin/python3.7 -m pip install --upgrade pip' command.\u001b[0m\n"
     ]
    }
   ],
   "source": [
    "!pip install vaderSentiment"
   ]
  },
  {
   "cell_type": "code",
   "execution_count": 2,
   "metadata": {},
   "outputs": [
    {
     "name": "stdout",
     "output_type": "stream",
     "text": [
      "Requirement already satisfied: TextBlob in /opt/conda/lib/python3.7/site-packages (0.15.3)\n",
      "Requirement already satisfied: nltk>=3.1 in /opt/conda/lib/python3.7/site-packages (from TextBlob) (3.2.4)\n",
      "Requirement already satisfied: six in /opt/conda/lib/python3.7/site-packages (from nltk>=3.1->TextBlob) (1.14.0)\n",
      "\u001b[33mWARNING: You are using pip version 20.1; however, version 20.1.1 is available.\n",
      "You should consider upgrading via the '/opt/conda/bin/python3.7 -m pip install --upgrade pip' command.\u001b[0m\n"
     ]
    }
   ],
   "source": [
    "!pip install TextBlob"
   ]
  },
  {
   "cell_type": "code",
   "execution_count": 3,
   "metadata": {},
   "outputs": [
    {
     "name": "stderr",
     "output_type": "stream",
     "text": [
      "Using TensorFlow backend.\n"
     ]
    }
   ],
   "source": [
    "import pandas as pd\n",
    "import os\n",
    "import json\n",
    "from operator import itemgetter\n",
    "import nltk\n",
    "import csv\n",
    "csv.field_size_limit(2147483647)\n",
    "#nltk.download('punkt')\n",
    "import requests\n",
    "import xml.etree.ElementTree as ET\n",
    "from vaderSentiment.vaderSentiment import SentimentIntensityAnalyzer\n",
    "#from nltk.stem.wordnet import WordNetLemmatizer\n",
    "from nltk.corpus import stopwords\n",
    "import string\n",
    "from textblob import TextBlob\n",
    "import codecs\n",
    "import re\n",
    "from shutil import copyfile\n",
    "import numpy as np\n",
    "import matplotlib.pyplot as plt\n",
    "from sklearn.metrics import accuracy_score\n",
    "from sklearn.metrics import precision_recall_fscore_support as score\n",
    "from sklearn.metrics import confusion_matrix\n",
    "from sklearn.metrics import classification_report\n",
    "import seaborn as sn\n",
    "from sklearn.feature_extraction.text import CountVectorizer, TfidfTransformer\n",
    "from sklearn.linear_model import SGDClassifier\n",
    "from sklearn.pipeline import Pipeline\n",
    "from sklearn.model_selection import train_test_split\n",
    "from sklearn.model_selection import StratifiedKFold\n",
    "from sklearn.ensemble import RandomForestRegressor\n",
    "from keras.preprocessing.text import one_hot\n",
    "from keras.preprocessing.sequence import pad_sequences\n",
    "from keras.models import Sequential\n",
    "from keras.layers.core import Activation, Dropout, Dense\n",
    "from keras.layers import Flatten, LSTM\n",
    "from keras.layers import GlobalMaxPooling1D\n",
    "from keras.models import Model\n",
    "from keras.layers.embeddings import Embedding\n",
    "from keras.preprocessing.text import Tokenizer\n",
    "from keras.layers import Input\n",
    "from keras.layers.merge import Concatenate\n",
    "from keras.utils import to_categorical\n",
    "from keras import backend as K\n",
    "from numpy import array\n",
    "from numpy import asarray\n",
    "from numpy import zeros\n",
    "from wordcloud import WordCloud"
   ]
  },
  {
   "cell_type": "code",
   "execution_count": 6,
   "metadata": {},
   "outputs": [],
   "source": [
    "COVID19_FILES_DIR = '../input/CORD-19-research-challenge/'\n",
    "COVID19_FILES_2020_DIR = '../output/Covid-19 May 16 2020 Filtered/'\n",
    "METADATA_FILENAME = COVID19_FILES_DIR + 'metadata.csv'\n",
    "FORMATTED_FILES_DIR = '../output/Covid-19 May 16 Formatted/'\n",
    "RESULTS_FILE_NAME = 'Covid-19 Filtered May 16.csv'\n",
    "DRUGS_FILE_NAME = 'RxNorm Drugs API.csv'\n",
    "LABELED_SENTIMENT_FILE_NAME = '../input/drugsComTrain_raw.csv'\n",
    "GLOVE_FILE_NAME = '../input/glove6b100dtxt/glove.6B.100d.txt'"
   ]
  },
  {
   "cell_type": "markdown",
   "metadata": {},
   "source": [
    "### Read and process Metadatada file"
   ]
  },
  {
   "cell_type": "code",
   "execution_count": 7,
   "metadata": {},
   "outputs": [
    {
     "data": {
      "text/html": [
       "<style>\n",
       "table {float:left; font-size: 14px !important;}\n",
       "</style>\n"
      ],
      "text/plain": [
       "<IPython.core.display.HTML object>"
      ]
     },
     "metadata": {},
     "output_type": "display_data"
    }
   ],
   "source": [
    "%%html\n",
    "<style>\n",
    "table {float:left; font-size: 14px !important;}\n",
    "</style>"
   ]
  },
  {
   "cell_type": "code",
   "execution_count": 8,
   "metadata": {},
   "outputs": [
    {
     "data": {
      "text/plain": [
       "(134206, 19)"
      ]
     },
     "execution_count": 8,
     "metadata": {},
     "output_type": "execute_result"
    }
   ],
   "source": [
    "df = pd.read_csv(METADATA_FILENAME, low_memory=False, parse_dates=['publish_time'])\n",
    "df.shape"
   ]
  },
  {
   "cell_type": "code",
   "execution_count": 9,
   "metadata": {},
   "outputs": [
    {
     "data": {
      "text/plain": [
       "count                  134194\n",
       "unique                   7036\n",
       "top       2020-01-01 00:00:00\n",
       "freq                    14163\n",
       "first     1870-01-01 00:00:00\n",
       "last      2021-12-31 00:00:00\n",
       "Name: publish_time, dtype: object"
      ]
     },
     "execution_count": 9,
     "metadata": {},
     "output_type": "execute_result"
    }
   ],
   "source": [
    "df['publish_time'].describe()"
   ]
  },
  {
   "cell_type": "code",
   "execution_count": 11,
   "metadata": {},
   "outputs": [
    {
     "data": {
      "text/plain": [
       "pdf_json_files  pmc_json_files\n",
       "False           False             40876\n",
       "                True              16086\n",
       "True            False              2877\n",
       "                True              74367\n",
       "dtype: int64"
      ]
     },
     "execution_count": 11,
     "metadata": {},
     "output_type": "execute_result"
    }
   ],
   "source": [
    "df.isnull().groupby(['pdf_json_files', 'pmc_json_files']).size()\n"
   ]
  },
  {
   "cell_type": "code",
   "execution_count": 12,
   "metadata": {},
   "outputs": [
    {
     "data": {
      "text/html": [
       "<div>\n",
       "<style scoped>\n",
       "    .dataframe tbody tr th:only-of-type {\n",
       "        vertical-align: middle;\n",
       "    }\n",
       "\n",
       "    .dataframe tbody tr th {\n",
       "        vertical-align: top;\n",
       "    }\n",
       "\n",
       "    .dataframe thead th {\n",
       "        text-align: right;\n",
       "    }\n",
       "</style>\n",
       "<table border=\"1\" class=\"dataframe\">\n",
       "  <thead>\n",
       "    <tr style=\"text-align: right;\">\n",
       "      <th></th>\n",
       "      <th>cord_uid</th>\n",
       "      <th>sha</th>\n",
       "      <th>source_x</th>\n",
       "      <th>title</th>\n",
       "      <th>doi</th>\n",
       "      <th>pmcid</th>\n",
       "      <th>pubmed_id</th>\n",
       "      <th>license</th>\n",
       "      <th>abstract</th>\n",
       "      <th>publish_time</th>\n",
       "      <th>authors</th>\n",
       "      <th>journal</th>\n",
       "      <th>mag_id</th>\n",
       "      <th>who_covidence_id</th>\n",
       "      <th>arxiv_id</th>\n",
       "      <th>pdf_json_files</th>\n",
       "      <th>pmc_json_files</th>\n",
       "      <th>url</th>\n",
       "      <th>s2_id</th>\n",
       "    </tr>\n",
       "  </thead>\n",
       "  <tbody>\n",
       "    <tr>\n",
       "      <th>0</th>\n",
       "      <td>ug7v899j</td>\n",
       "      <td>d1aafb70c066a2068b02786f8929fd9c900897fb</td>\n",
       "      <td>PMC</td>\n",
       "      <td>Clinical features of culture-proven Mycoplasma...</td>\n",
       "      <td>10.1186/1471-2334-1-6</td>\n",
       "      <td>PMC35282</td>\n",
       "      <td>11472636.0</td>\n",
       "      <td>no-cc</td>\n",
       "      <td>OBJECTIVE: This retrospective chart review des...</td>\n",
       "      <td>2001-07-04</td>\n",
       "      <td>Madani, Tariq A; Al-Ghamdi, Aisha A</td>\n",
       "      <td>BMC Infect Dis</td>\n",
       "      <td>NaN</td>\n",
       "      <td>NaN</td>\n",
       "      <td>NaN</td>\n",
       "      <td>document_parses/pdf_json/d1aafb70c066a2068b027...</td>\n",
       "      <td>document_parses/pmc_json/PMC35282.xml.json</td>\n",
       "      <td>https://www.ncbi.nlm.nih.gov/pmc/articles/PMC3...</td>\n",
       "      <td>NaN</td>\n",
       "    </tr>\n",
       "    <tr>\n",
       "      <th>1</th>\n",
       "      <td>02tnwd4m</td>\n",
       "      <td>6b0567729c2143a66d737eb0a2f63f2dce2e5a7d</td>\n",
       "      <td>PMC</td>\n",
       "      <td>Nitric oxide: a pro-inflammatory mediator in l...</td>\n",
       "      <td>10.1186/rr14</td>\n",
       "      <td>PMC59543</td>\n",
       "      <td>11667967.0</td>\n",
       "      <td>no-cc</td>\n",
       "      <td>Inflammatory diseases of the respiratory tract...</td>\n",
       "      <td>2000-08-15</td>\n",
       "      <td>Vliet, Albert van der; Eiserich, Jason P; Cros...</td>\n",
       "      <td>Respir Res</td>\n",
       "      <td>NaN</td>\n",
       "      <td>NaN</td>\n",
       "      <td>NaN</td>\n",
       "      <td>document_parses/pdf_json/6b0567729c2143a66d737...</td>\n",
       "      <td>document_parses/pmc_json/PMC59543.xml.json</td>\n",
       "      <td>https://www.ncbi.nlm.nih.gov/pmc/articles/PMC5...</td>\n",
       "      <td>NaN</td>\n",
       "    </tr>\n",
       "    <tr>\n",
       "      <th>2</th>\n",
       "      <td>ejv2xln0</td>\n",
       "      <td>06ced00a5fc04215949aa72528f2eeaae1d58927</td>\n",
       "      <td>PMC</td>\n",
       "      <td>Surfactant protein-D and pulmonary host defense</td>\n",
       "      <td>10.1186/rr19</td>\n",
       "      <td>PMC59549</td>\n",
       "      <td>11667972.0</td>\n",
       "      <td>no-cc</td>\n",
       "      <td>Surfactant protein-D (SP-D) participates in th...</td>\n",
       "      <td>2000-08-25</td>\n",
       "      <td>Crouch, Erika C</td>\n",
       "      <td>Respir Res</td>\n",
       "      <td>NaN</td>\n",
       "      <td>NaN</td>\n",
       "      <td>NaN</td>\n",
       "      <td>document_parses/pdf_json/06ced00a5fc04215949aa...</td>\n",
       "      <td>document_parses/pmc_json/PMC59549.xml.json</td>\n",
       "      <td>https://www.ncbi.nlm.nih.gov/pmc/articles/PMC5...</td>\n",
       "      <td>NaN</td>\n",
       "    </tr>\n",
       "    <tr>\n",
       "      <th>3</th>\n",
       "      <td>2b73a28n</td>\n",
       "      <td>348055649b6b8cf2b9a376498df9bf41f7123605</td>\n",
       "      <td>PMC</td>\n",
       "      <td>Role of endothelin-1 in lung disease</td>\n",
       "      <td>10.1186/rr44</td>\n",
       "      <td>PMC59574</td>\n",
       "      <td>11686871.0</td>\n",
       "      <td>no-cc</td>\n",
       "      <td>Endothelin-1 (ET-1) is a 21 amino acid peptide...</td>\n",
       "      <td>2001-02-22</td>\n",
       "      <td>Fagan, Karen A; McMurtry, Ivan F; Rodman, David M</td>\n",
       "      <td>Respir Res</td>\n",
       "      <td>NaN</td>\n",
       "      <td>NaN</td>\n",
       "      <td>NaN</td>\n",
       "      <td>document_parses/pdf_json/348055649b6b8cf2b9a37...</td>\n",
       "      <td>document_parses/pmc_json/PMC59574.xml.json</td>\n",
       "      <td>https://www.ncbi.nlm.nih.gov/pmc/articles/PMC5...</td>\n",
       "      <td>NaN</td>\n",
       "    </tr>\n",
       "    <tr>\n",
       "      <th>4</th>\n",
       "      <td>9785vg6d</td>\n",
       "      <td>5f48792a5fa08bed9f56016f4981ae2ca6031b32</td>\n",
       "      <td>PMC</td>\n",
       "      <td>Gene expression in epithelial cells in respons...</td>\n",
       "      <td>10.1186/rr61</td>\n",
       "      <td>PMC59580</td>\n",
       "      <td>11686888.0</td>\n",
       "      <td>no-cc</td>\n",
       "      <td>Respiratory syncytial virus (RSV) and pneumoni...</td>\n",
       "      <td>2001-05-11</td>\n",
       "      <td>Domachowske, Joseph B; Bonville, Cynthia A; Ro...</td>\n",
       "      <td>Respir Res</td>\n",
       "      <td>NaN</td>\n",
       "      <td>NaN</td>\n",
       "      <td>NaN</td>\n",
       "      <td>document_parses/pdf_json/5f48792a5fa08bed9f560...</td>\n",
       "      <td>document_parses/pmc_json/PMC59580.xml.json</td>\n",
       "      <td>https://www.ncbi.nlm.nih.gov/pmc/articles/PMC5...</td>\n",
       "      <td>NaN</td>\n",
       "    </tr>\n",
       "  </tbody>\n",
       "</table>\n",
       "</div>"
      ],
      "text/plain": [
       "   cord_uid                                       sha source_x  \\\n",
       "0  ug7v899j  d1aafb70c066a2068b02786f8929fd9c900897fb      PMC   \n",
       "1  02tnwd4m  6b0567729c2143a66d737eb0a2f63f2dce2e5a7d      PMC   \n",
       "2  ejv2xln0  06ced00a5fc04215949aa72528f2eeaae1d58927      PMC   \n",
       "3  2b73a28n  348055649b6b8cf2b9a376498df9bf41f7123605      PMC   \n",
       "4  9785vg6d  5f48792a5fa08bed9f56016f4981ae2ca6031b32      PMC   \n",
       "\n",
       "                                               title                    doi  \\\n",
       "0  Clinical features of culture-proven Mycoplasma...  10.1186/1471-2334-1-6   \n",
       "1  Nitric oxide: a pro-inflammatory mediator in l...           10.1186/rr14   \n",
       "2    Surfactant protein-D and pulmonary host defense           10.1186/rr19   \n",
       "3               Role of endothelin-1 in lung disease           10.1186/rr44   \n",
       "4  Gene expression in epithelial cells in respons...           10.1186/rr61   \n",
       "\n",
       "      pmcid   pubmed_id license  \\\n",
       "0  PMC35282  11472636.0   no-cc   \n",
       "1  PMC59543  11667967.0   no-cc   \n",
       "2  PMC59549  11667972.0   no-cc   \n",
       "3  PMC59574  11686871.0   no-cc   \n",
       "4  PMC59580  11686888.0   no-cc   \n",
       "\n",
       "                                            abstract publish_time  \\\n",
       "0  OBJECTIVE: This retrospective chart review des...   2001-07-04   \n",
       "1  Inflammatory diseases of the respiratory tract...   2000-08-15   \n",
       "2  Surfactant protein-D (SP-D) participates in th...   2000-08-25   \n",
       "3  Endothelin-1 (ET-1) is a 21 amino acid peptide...   2001-02-22   \n",
       "4  Respiratory syncytial virus (RSV) and pneumoni...   2001-05-11   \n",
       "\n",
       "                                             authors         journal  mag_id  \\\n",
       "0                Madani, Tariq A; Al-Ghamdi, Aisha A  BMC Infect Dis     NaN   \n",
       "1  Vliet, Albert van der; Eiserich, Jason P; Cros...      Respir Res     NaN   \n",
       "2                                    Crouch, Erika C      Respir Res     NaN   \n",
       "3  Fagan, Karen A; McMurtry, Ivan F; Rodman, David M      Respir Res     NaN   \n",
       "4  Domachowske, Joseph B; Bonville, Cynthia A; Ro...      Respir Res     NaN   \n",
       "\n",
       "  who_covidence_id arxiv_id  \\\n",
       "0              NaN      NaN   \n",
       "1              NaN      NaN   \n",
       "2              NaN      NaN   \n",
       "3              NaN      NaN   \n",
       "4              NaN      NaN   \n",
       "\n",
       "                                      pdf_json_files  \\\n",
       "0  document_parses/pdf_json/d1aafb70c066a2068b027...   \n",
       "1  document_parses/pdf_json/6b0567729c2143a66d737...   \n",
       "2  document_parses/pdf_json/06ced00a5fc04215949aa...   \n",
       "3  document_parses/pdf_json/348055649b6b8cf2b9a37...   \n",
       "4  document_parses/pdf_json/5f48792a5fa08bed9f560...   \n",
       "\n",
       "                               pmc_json_files  \\\n",
       "0  document_parses/pmc_json/PMC35282.xml.json   \n",
       "1  document_parses/pmc_json/PMC59543.xml.json   \n",
       "2  document_parses/pmc_json/PMC59549.xml.json   \n",
       "3  document_parses/pmc_json/PMC59574.xml.json   \n",
       "4  document_parses/pmc_json/PMC59580.xml.json   \n",
       "\n",
       "                                                 url  s2_id  \n",
       "0  https://www.ncbi.nlm.nih.gov/pmc/articles/PMC3...    NaN  \n",
       "1  https://www.ncbi.nlm.nih.gov/pmc/articles/PMC5...    NaN  \n",
       "2  https://www.ncbi.nlm.nih.gov/pmc/articles/PMC5...    NaN  \n",
       "3  https://www.ncbi.nlm.nih.gov/pmc/articles/PMC5...    NaN  \n",
       "4  https://www.ncbi.nlm.nih.gov/pmc/articles/PMC5...    NaN  "
      ]
     },
     "execution_count": 12,
     "metadata": {},
     "output_type": "execute_result"
    }
   ],
   "source": [
    "df.head()"
   ]
  },
  {
   "cell_type": "markdown",
   "metadata": {},
   "source": [
    "### Keep articles for 2020 year only and having file links - pdf_json_files or pmc_json_files"
   ]
  },
  {
   "cell_type": "code",
   "execution_count": 13,
   "metadata": {},
   "outputs": [
    {
     "data": {
      "text/plain": [
       "(40542, 19)"
      ]
     },
     "execution_count": 13,
     "metadata": {},
     "output_type": "execute_result"
    }
   ],
   "source": [
    "df_2020 = df[(df['publish_time'] >= '2020-01-01') & (df['publish_time'] < pd.to_datetime('now'))]\n",
    "df_2020.shape"
   ]
  },
  {
   "cell_type": "code",
   "execution_count": 14,
   "metadata": {},
   "outputs": [
    {
     "data": {
      "text/plain": [
       "(16258, 19)"
      ]
     },
     "execution_count": 14,
     "metadata": {},
     "output_type": "execute_result"
    }
   ],
   "source": [
    "# Remove records without file links\n",
    "df_2020_wfiles = df_2020.dropna(subset=['pdf_json_files', 'pmc_json_files'], how='all')\n",
    "df_2020_wfiles.shape"
   ]
  },
  {
   "cell_type": "code",
   "execution_count": 15,
   "metadata": {},
   "outputs": [
    {
     "data": {
      "text/html": [
       "<div>\n",
       "<style scoped>\n",
       "    .dataframe tbody tr th:only-of-type {\n",
       "        vertical-align: middle;\n",
       "    }\n",
       "\n",
       "    .dataframe tbody tr th {\n",
       "        vertical-align: top;\n",
       "    }\n",
       "\n",
       "    .dataframe thead th {\n",
       "        text-align: right;\n",
       "    }\n",
       "</style>\n",
       "<table border=\"1\" class=\"dataframe\">\n",
       "  <thead>\n",
       "    <tr style=\"text-align: right;\">\n",
       "      <th></th>\n",
       "      <th>cord_uid</th>\n",
       "      <th>sha</th>\n",
       "      <th>source_x</th>\n",
       "      <th>title</th>\n",
       "      <th>doi</th>\n",
       "      <th>pmcid</th>\n",
       "      <th>pubmed_id</th>\n",
       "      <th>license</th>\n",
       "      <th>abstract</th>\n",
       "      <th>publish_time</th>\n",
       "      <th>authors</th>\n",
       "      <th>journal</th>\n",
       "      <th>mag_id</th>\n",
       "      <th>who_covidence_id</th>\n",
       "      <th>arxiv_id</th>\n",
       "      <th>pdf_json_files</th>\n",
       "      <th>pmc_json_files</th>\n",
       "      <th>url</th>\n",
       "      <th>s2_id</th>\n",
       "    </tr>\n",
       "  </thead>\n",
       "  <tbody>\n",
       "    <tr>\n",
       "      <th>count</th>\n",
       "      <td>16258</td>\n",
       "      <td>15638</td>\n",
       "      <td>16258</td>\n",
       "      <td>16258</td>\n",
       "      <td>15045</td>\n",
       "      <td>10203</td>\n",
       "      <td>9.162000e+03</td>\n",
       "      <td>16258</td>\n",
       "      <td>11845</td>\n",
       "      <td>16258</td>\n",
       "      <td>16136</td>\n",
       "      <td>11712</td>\n",
       "      <td>0.0</td>\n",
       "      <td>4688</td>\n",
       "      <td>1241</td>\n",
       "      <td>15638</td>\n",
       "      <td>8546</td>\n",
       "      <td>16258</td>\n",
       "      <td>1.430300e+04</td>\n",
       "    </tr>\n",
       "    <tr>\n",
       "      <th>unique</th>\n",
       "      <td>16126</td>\n",
       "      <td>15587</td>\n",
       "      <td>27</td>\n",
       "      <td>15974</td>\n",
       "      <td>14913</td>\n",
       "      <td>10203</td>\n",
       "      <td>NaN</td>\n",
       "      <td>13</td>\n",
       "      <td>11769</td>\n",
       "      <td>146</td>\n",
       "      <td>15557</td>\n",
       "      <td>2532</td>\n",
       "      <td>NaN</td>\n",
       "      <td>4688</td>\n",
       "      <td>1241</td>\n",
       "      <td>15587</td>\n",
       "      <td>8546</td>\n",
       "      <td>16255</td>\n",
       "      <td>NaN</td>\n",
       "    </tr>\n",
       "    <tr>\n",
       "      <th>top</th>\n",
       "      <td>ptvaopgj</td>\n",
       "      <td>43e9fddd5958ee6a00e553db81c7c3594fba8b21</td>\n",
       "      <td>MedRxiv</td>\n",
       "      <td>Estimation of COVID-19 burden in Egypt</td>\n",
       "      <td>10.1016/j.lrr.2020.100201</td>\n",
       "      <td>PMC7141481</td>\n",
       "      <td>NaN</td>\n",
       "      <td>no-cc</td>\n",
       "      <td>[Figure: see text]</td>\n",
       "      <td>2020-04-17 00:00:00</td>\n",
       "      <td>Joob, Beuy; Wiwanitkit, Viroj</td>\n",
       "      <td>bioRxiv</td>\n",
       "      <td>NaN</td>\n",
       "      <td>#186517</td>\n",
       "      <td>2005.08400</td>\n",
       "      <td>document_parses/pdf_json/b28a28cd3f9f3c50b09af...</td>\n",
       "      <td>document_parses/pmc_json/PMC7018922.xml.json</td>\n",
       "      <td>https://doi.org/10.1101/2020.01.25.919787</td>\n",
       "      <td>NaN</td>\n",
       "    </tr>\n",
       "    <tr>\n",
       "      <th>freq</th>\n",
       "      <td>2</td>\n",
       "      <td>2</td>\n",
       "      <td>2798</td>\n",
       "      <td>4</td>\n",
       "      <td>2</td>\n",
       "      <td>1</td>\n",
       "      <td>NaN</td>\n",
       "      <td>5496</td>\n",
       "      <td>10</td>\n",
       "      <td>479</td>\n",
       "      <td>15</td>\n",
       "      <td>840</td>\n",
       "      <td>NaN</td>\n",
       "      <td>1</td>\n",
       "      <td>1</td>\n",
       "      <td>2</td>\n",
       "      <td>1</td>\n",
       "      <td>2</td>\n",
       "      <td>NaN</td>\n",
       "    </tr>\n",
       "    <tr>\n",
       "      <th>first</th>\n",
       "      <td>NaN</td>\n",
       "      <td>NaN</td>\n",
       "      <td>NaN</td>\n",
       "      <td>NaN</td>\n",
       "      <td>NaN</td>\n",
       "      <td>NaN</td>\n",
       "      <td>NaN</td>\n",
       "      <td>NaN</td>\n",
       "      <td>NaN</td>\n",
       "      <td>2020-01-01 00:00:00</td>\n",
       "      <td>NaN</td>\n",
       "      <td>NaN</td>\n",
       "      <td>NaN</td>\n",
       "      <td>NaN</td>\n",
       "      <td>NaN</td>\n",
       "      <td>NaN</td>\n",
       "      <td>NaN</td>\n",
       "      <td>NaN</td>\n",
       "      <td>NaN</td>\n",
       "    </tr>\n",
       "    <tr>\n",
       "      <th>last</th>\n",
       "      <td>NaN</td>\n",
       "      <td>NaN</td>\n",
       "      <td>NaN</td>\n",
       "      <td>NaN</td>\n",
       "      <td>NaN</td>\n",
       "      <td>NaN</td>\n",
       "      <td>NaN</td>\n",
       "      <td>NaN</td>\n",
       "      <td>NaN</td>\n",
       "      <td>2020-05-26 00:00:00</td>\n",
       "      <td>NaN</td>\n",
       "      <td>NaN</td>\n",
       "      <td>NaN</td>\n",
       "      <td>NaN</td>\n",
       "      <td>NaN</td>\n",
       "      <td>NaN</td>\n",
       "      <td>NaN</td>\n",
       "      <td>NaN</td>\n",
       "      <td>NaN</td>\n",
       "    </tr>\n",
       "    <tr>\n",
       "      <th>mean</th>\n",
       "      <td>NaN</td>\n",
       "      <td>NaN</td>\n",
       "      <td>NaN</td>\n",
       "      <td>NaN</td>\n",
       "      <td>NaN</td>\n",
       "      <td>NaN</td>\n",
       "      <td>3.227897e+07</td>\n",
       "      <td>NaN</td>\n",
       "      <td>NaN</td>\n",
       "      <td>NaN</td>\n",
       "      <td>NaN</td>\n",
       "      <td>NaN</td>\n",
       "      <td>NaN</td>\n",
       "      <td>NaN</td>\n",
       "      <td>NaN</td>\n",
       "      <td>NaN</td>\n",
       "      <td>NaN</td>\n",
       "      <td>NaN</td>\n",
       "      <td>2.161007e+08</td>\n",
       "    </tr>\n",
       "    <tr>\n",
       "      <th>std</th>\n",
       "      <td>NaN</td>\n",
       "      <td>NaN</td>\n",
       "      <td>NaN</td>\n",
       "      <td>NaN</td>\n",
       "      <td>NaN</td>\n",
       "      <td>NaN</td>\n",
       "      <td>1.453660e+05</td>\n",
       "      <td>NaN</td>\n",
       "      <td>NaN</td>\n",
       "      <td>NaN</td>\n",
       "      <td>NaN</td>\n",
       "      <td>NaN</td>\n",
       "      <td>NaN</td>\n",
       "      <td>NaN</td>\n",
       "      <td>NaN</td>\n",
       "      <td>NaN</td>\n",
       "      <td>NaN</td>\n",
       "      <td>NaN</td>\n",
       "      <td>4.841597e+06</td>\n",
       "    </tr>\n",
       "    <tr>\n",
       "      <th>min</th>\n",
       "      <td>NaN</td>\n",
       "      <td>NaN</td>\n",
       "      <td>NaN</td>\n",
       "      <td>NaN</td>\n",
       "      <td>NaN</td>\n",
       "      <td>NaN</td>\n",
       "      <td>2.886383e+07</td>\n",
       "      <td>NaN</td>\n",
       "      <td>NaN</td>\n",
       "      <td>NaN</td>\n",
       "      <td>NaN</td>\n",
       "      <td>NaN</td>\n",
       "      <td>NaN</td>\n",
       "      <td>NaN</td>\n",
       "      <td>NaN</td>\n",
       "      <td>NaN</td>\n",
       "      <td>NaN</td>\n",
       "      <td>NaN</td>\n",
       "      <td>3.058582e+06</td>\n",
       "    </tr>\n",
       "    <tr>\n",
       "      <th>25%</th>\n",
       "      <td>NaN</td>\n",
       "      <td>NaN</td>\n",
       "      <td>NaN</td>\n",
       "      <td>NaN</td>\n",
       "      <td>NaN</td>\n",
       "      <td>NaN</td>\n",
       "      <td>3.222951e+07</td>\n",
       "      <td>NaN</td>\n",
       "      <td>NaN</td>\n",
       "      <td>NaN</td>\n",
       "      <td>NaN</td>\n",
       "      <td>NaN</td>\n",
       "      <td>NaN</td>\n",
       "      <td>NaN</td>\n",
       "      <td>NaN</td>\n",
       "      <td>NaN</td>\n",
       "      <td>NaN</td>\n",
       "      <td>NaN</td>\n",
       "      <td>2.154054e+08</td>\n",
       "    </tr>\n",
       "    <tr>\n",
       "      <th>50%</th>\n",
       "      <td>NaN</td>\n",
       "      <td>NaN</td>\n",
       "      <td>NaN</td>\n",
       "      <td>NaN</td>\n",
       "      <td>NaN</td>\n",
       "      <td>NaN</td>\n",
       "      <td>3.231381e+07</td>\n",
       "      <td>NaN</td>\n",
       "      <td>NaN</td>\n",
       "      <td>NaN</td>\n",
       "      <td>NaN</td>\n",
       "      <td>NaN</td>\n",
       "      <td>NaN</td>\n",
       "      <td>NaN</td>\n",
       "      <td>NaN</td>\n",
       "      <td>NaN</td>\n",
       "      <td>NaN</td>\n",
       "      <td>NaN</td>\n",
       "      <td>2.160715e+08</td>\n",
       "    </tr>\n",
       "    <tr>\n",
       "      <th>75%</th>\n",
       "      <td>NaN</td>\n",
       "      <td>NaN</td>\n",
       "      <td>NaN</td>\n",
       "      <td>NaN</td>\n",
       "      <td>NaN</td>\n",
       "      <td>NaN</td>\n",
       "      <td>3.237281e+07</td>\n",
       "      <td>NaN</td>\n",
       "      <td>NaN</td>\n",
       "      <td>NaN</td>\n",
       "      <td>NaN</td>\n",
       "      <td>NaN</td>\n",
       "      <td>NaN</td>\n",
       "      <td>NaN</td>\n",
       "      <td>NaN</td>\n",
       "      <td>NaN</td>\n",
       "      <td>NaN</td>\n",
       "      <td>NaN</td>\n",
       "      <td>2.185181e+08</td>\n",
       "    </tr>\n",
       "    <tr>\n",
       "      <th>max</th>\n",
       "      <td>NaN</td>\n",
       "      <td>NaN</td>\n",
       "      <td>NaN</td>\n",
       "      <td>NaN</td>\n",
       "      <td>NaN</td>\n",
       "      <td>NaN</td>\n",
       "      <td>3.244700e+07</td>\n",
       "      <td>NaN</td>\n",
       "      <td>NaN</td>\n",
       "      <td>NaN</td>\n",
       "      <td>NaN</td>\n",
       "      <td>NaN</td>\n",
       "      <td>NaN</td>\n",
       "      <td>NaN</td>\n",
       "      <td>NaN</td>\n",
       "      <td>NaN</td>\n",
       "      <td>NaN</td>\n",
       "      <td>NaN</td>\n",
       "      <td>2.188705e+08</td>\n",
       "    </tr>\n",
       "  </tbody>\n",
       "</table>\n",
       "</div>"
      ],
      "text/plain": [
       "        cord_uid                                       sha source_x  \\\n",
       "count      16258                                     15638    16258   \n",
       "unique     16126                                     15587       27   \n",
       "top     ptvaopgj  43e9fddd5958ee6a00e553db81c7c3594fba8b21  MedRxiv   \n",
       "freq           2                                         2     2798   \n",
       "first        NaN                                       NaN      NaN   \n",
       "last         NaN                                       NaN      NaN   \n",
       "mean         NaN                                       NaN      NaN   \n",
       "std          NaN                                       NaN      NaN   \n",
       "min          NaN                                       NaN      NaN   \n",
       "25%          NaN                                       NaN      NaN   \n",
       "50%          NaN                                       NaN      NaN   \n",
       "75%          NaN                                       NaN      NaN   \n",
       "max          NaN                                       NaN      NaN   \n",
       "\n",
       "                                         title                        doi  \\\n",
       "count                                    16258                      15045   \n",
       "unique                                   15974                      14913   \n",
       "top     Estimation of COVID-19 burden in Egypt  10.1016/j.lrr.2020.100201   \n",
       "freq                                         4                          2   \n",
       "first                                      NaN                        NaN   \n",
       "last                                       NaN                        NaN   \n",
       "mean                                       NaN                        NaN   \n",
       "std                                        NaN                        NaN   \n",
       "min                                        NaN                        NaN   \n",
       "25%                                        NaN                        NaN   \n",
       "50%                                        NaN                        NaN   \n",
       "75%                                        NaN                        NaN   \n",
       "max                                        NaN                        NaN   \n",
       "\n",
       "             pmcid     pubmed_id license            abstract  \\\n",
       "count        10203  9.162000e+03   16258               11845   \n",
       "unique       10203           NaN      13               11769   \n",
       "top     PMC7141481           NaN   no-cc  [Figure: see text]   \n",
       "freq             1           NaN    5496                  10   \n",
       "first          NaN           NaN     NaN                 NaN   \n",
       "last           NaN           NaN     NaN                 NaN   \n",
       "mean           NaN  3.227897e+07     NaN                 NaN   \n",
       "std            NaN  1.453660e+05     NaN                 NaN   \n",
       "min            NaN  2.886383e+07     NaN                 NaN   \n",
       "25%            NaN  3.222951e+07     NaN                 NaN   \n",
       "50%            NaN  3.231381e+07     NaN                 NaN   \n",
       "75%            NaN  3.237281e+07     NaN                 NaN   \n",
       "max            NaN  3.244700e+07     NaN                 NaN   \n",
       "\n",
       "               publish_time                        authors  journal  mag_id  \\\n",
       "count                 16258                          16136    11712     0.0   \n",
       "unique                  146                          15557     2532     NaN   \n",
       "top     2020-04-17 00:00:00  Joob, Beuy; Wiwanitkit, Viroj  bioRxiv     NaN   \n",
       "freq                    479                             15      840     NaN   \n",
       "first   2020-01-01 00:00:00                            NaN      NaN     NaN   \n",
       "last    2020-05-26 00:00:00                            NaN      NaN     NaN   \n",
       "mean                    NaN                            NaN      NaN     NaN   \n",
       "std                     NaN                            NaN      NaN     NaN   \n",
       "min                     NaN                            NaN      NaN     NaN   \n",
       "25%                     NaN                            NaN      NaN     NaN   \n",
       "50%                     NaN                            NaN      NaN     NaN   \n",
       "75%                     NaN                            NaN      NaN     NaN   \n",
       "max                     NaN                            NaN      NaN     NaN   \n",
       "\n",
       "       who_covidence_id    arxiv_id  \\\n",
       "count              4688        1241   \n",
       "unique             4688        1241   \n",
       "top             #186517  2005.08400   \n",
       "freq                  1           1   \n",
       "first               NaN         NaN   \n",
       "last                NaN         NaN   \n",
       "mean                NaN         NaN   \n",
       "std                 NaN         NaN   \n",
       "min                 NaN         NaN   \n",
       "25%                 NaN         NaN   \n",
       "50%                 NaN         NaN   \n",
       "75%                 NaN         NaN   \n",
       "max                 NaN         NaN   \n",
       "\n",
       "                                           pdf_json_files  \\\n",
       "count                                               15638   \n",
       "unique                                              15587   \n",
       "top     document_parses/pdf_json/b28a28cd3f9f3c50b09af...   \n",
       "freq                                                    2   \n",
       "first                                                 NaN   \n",
       "last                                                  NaN   \n",
       "mean                                                  NaN   \n",
       "std                                                   NaN   \n",
       "min                                                   NaN   \n",
       "25%                                                   NaN   \n",
       "50%                                                   NaN   \n",
       "75%                                                   NaN   \n",
       "max                                                   NaN   \n",
       "\n",
       "                                      pmc_json_files  \\\n",
       "count                                           8546   \n",
       "unique                                          8546   \n",
       "top     document_parses/pmc_json/PMC7018922.xml.json   \n",
       "freq                                               1   \n",
       "first                                            NaN   \n",
       "last                                             NaN   \n",
       "mean                                             NaN   \n",
       "std                                              NaN   \n",
       "min                                              NaN   \n",
       "25%                                              NaN   \n",
       "50%                                              NaN   \n",
       "75%                                              NaN   \n",
       "max                                              NaN   \n",
       "\n",
       "                                              url         s2_id  \n",
       "count                                       16258  1.430300e+04  \n",
       "unique                                      16255           NaN  \n",
       "top     https://doi.org/10.1101/2020.01.25.919787           NaN  \n",
       "freq                                            2           NaN  \n",
       "first                                         NaN           NaN  \n",
       "last                                          NaN           NaN  \n",
       "mean                                          NaN  2.161007e+08  \n",
       "std                                           NaN  4.841597e+06  \n",
       "min                                           NaN  3.058582e+06  \n",
       "25%                                           NaN  2.154054e+08  \n",
       "50%                                           NaN  2.160715e+08  \n",
       "75%                                           NaN  2.185181e+08  \n",
       "max                                           NaN  2.188705e+08  "
      ]
     },
     "execution_count": 15,
     "metadata": {},
     "output_type": "execute_result"
    }
   ],
   "source": [
    "df_2020_wfiles.describe(include='all')"
   ]
  },
  {
   "cell_type": "markdown",
   "metadata": {},
   "source": [
    "### Select files for analysis  - PMC files first then PDF files"
   ]
  },
  {
   "cell_type": "markdown",
   "metadata": {},
   "source": [
    "Select PMC JSON files first as more clearly parsed"
   ]
  },
  {
   "cell_type": "code",
   "execution_count": 16,
   "metadata": {},
   "outputs": [
    {
     "data": {
      "text/plain": [
       "8546"
      ]
     },
     "execution_count": 16,
     "metadata": {},
     "output_type": "execute_result"
    }
   ],
   "source": [
    "pmc_files = df_2020_wfiles[df_2020_wfiles['pmc_json_files'].notnull()]['pmc_json_files'].to_list()\n",
    "len(pmc_files)"
   ]
  },
  {
   "cell_type": "markdown",
   "metadata": {},
   "source": [
    "Select PDF JSON files"
   ]
  },
  {
   "cell_type": "code",
   "execution_count": 6,
   "metadata": {},
   "outputs": [],
   "source": [
    "pdf_files_df =  df_2020_wfiles[df_2020_wfiles['pmc_json_files'].isnull()]\n",
    "pdf_files_df = pdf_files_df.dropna(subset=['pdf_json_files'])\n",
    "pdf_files = pdf_files_df['pdf_json_files'].to_list()"
   ]
  },
  {
   "cell_type": "markdown",
   "metadata": {},
   "source": [
    "*pdf_json_files* column may contain several file names joined by ; - split such strings <br/>\n",
    "Split PDF JSON file names"
   ]
  },
  {
   "cell_type": "code",
   "execution_count": 7,
   "metadata": {},
   "outputs": [],
   "source": [
    "files_for_analysis = pmc_files + pdf_files\n",
    "files_for_analysis_splitted = [y for x in files_for_analysis for y in x.split(';')]\n",
    "\n",
    "files_for_analysis = ['{0}{1}'.format(COVID19_FILES_DIR, element.strip()) for element in files_for_analysis_splitted]\n"
   ]
  },
  {
   "cell_type": "markdown",
   "metadata": {},
   "source": [
    "Define publication date"
   ]
  },
  {
   "cell_type": "code",
   "execution_count": 20,
   "metadata": {},
   "outputs": [
    {
     "data": {
      "text/html": [
       "<div>\n",
       "<style scoped>\n",
       "    .dataframe tbody tr th:only-of-type {\n",
       "        vertical-align: middle;\n",
       "    }\n",
       "\n",
       "    .dataframe tbody tr th {\n",
       "        vertical-align: top;\n",
       "    }\n",
       "\n",
       "    .dataframe thead th {\n",
       "        text-align: right;\n",
       "    }\n",
       "</style>\n",
       "<table border=\"1\" class=\"dataframe\">\n",
       "  <thead>\n",
       "    <tr style=\"text-align: right;\">\n",
       "      <th></th>\n",
       "      <th>sha</th>\n",
       "      <th>pmcid</th>\n",
       "      <th>publish_time</th>\n",
       "    </tr>\n",
       "  </thead>\n",
       "  <tbody>\n",
       "    <tr>\n",
       "      <th>5158</th>\n",
       "      <td>44449ad1cca160ce491d7624f8ae1028f3570c45</td>\n",
       "      <td>PMC6939335</td>\n",
       "      <td>2020-01-02</td>\n",
       "    </tr>\n",
       "    <tr>\n",
       "      <th>5159</th>\n",
       "      <td>def41c08c3cb1b3752bcff34d3aed7f8486e1c86</td>\n",
       "      <td>PMC6940405</td>\n",
       "      <td>2020-01-02</td>\n",
       "    </tr>\n",
       "    <tr>\n",
       "      <th>5160</th>\n",
       "      <td>f5ae3f66face323615df39d838e056ab5fcc98df</td>\n",
       "      <td>PMC6941262</td>\n",
       "      <td>2020-01-02</td>\n",
       "    </tr>\n",
       "    <tr>\n",
       "      <th>5161</th>\n",
       "      <td>5be75ae4e7f8c892abd8dc396b9dbd035772c84a</td>\n",
       "      <td>PMC6941296</td>\n",
       "      <td>2020-01-02</td>\n",
       "    </tr>\n",
       "    <tr>\n",
       "      <th>5162</th>\n",
       "      <td>1cee4a0d0e823379ec34a462a04561bf4cd736a2</td>\n",
       "      <td>PMC6941340</td>\n",
       "      <td>2020-01-03</td>\n",
       "    </tr>\n",
       "  </tbody>\n",
       "</table>\n",
       "</div>"
      ],
      "text/plain": [
       "                                           sha       pmcid publish_time\n",
       "5158  44449ad1cca160ce491d7624f8ae1028f3570c45  PMC6939335   2020-01-02\n",
       "5159  def41c08c3cb1b3752bcff34d3aed7f8486e1c86  PMC6940405   2020-01-02\n",
       "5160  f5ae3f66face323615df39d838e056ab5fcc98df  PMC6941262   2020-01-02\n",
       "5161  5be75ae4e7f8c892abd8dc396b9dbd035772c84a  PMC6941296   2020-01-02\n",
       "5162  1cee4a0d0e823379ec34a462a04561bf4cd736a2  PMC6941340   2020-01-03"
      ]
     },
     "execution_count": 20,
     "metadata": {},
     "output_type": "execute_result"
    }
   ],
   "source": [
    "df_metadata_date = df_2020_wfiles[['sha', 'pmcid', 'publish_time']]\n",
    "df_metadata_date.head()"
   ]
  },
  {
   "cell_type": "markdown",
   "metadata": {},
   "source": [
    "Define publication date for each PMC and PDF files"
   ]
  },
  {
   "cell_type": "code",
   "execution_count": 21,
   "metadata": {},
   "outputs": [],
   "source": [
    "sha_list = dict(zip(df_metadata_date['sha'], df_metadata_date['publish_time']))\n",
    "sha_list_s ={} \n",
    "for key, value in sha_list.items():\n",
    "        try:    \n",
    "          strs = key.split(';')\n",
    "          if len(strs) > 1:\n",
    "           for i in strs:\n",
    "               sha_list_s[i.strip()] = value\n",
    "          else:\n",
    "           sha_list_s[key] = value\n",
    "        except:\n",
    "            continue\n",
    "    \n",
    "pmcid_list = dict(zip(df_metadata_date['pmcid'], df_metadata_date['publish_time']))"
   ]
  },
  {
   "cell_type": "code",
   "execution_count": 22,
   "metadata": {},
   "outputs": [],
   "source": [
    "def get_publish_date(paper_id):\n",
    "    if paper_id in sha_list_s:\n",
    "        return sha_list_s.get(paper_id)\n",
    "    if paper_id in pmcid_list:\n",
    "        return pmcid_list.get(paper_id)"
   ]
  },
  {
   "cell_type": "markdown",
   "metadata": {},
   "source": [
    "### Create Cleaned CSV file with  Document ID, Authors, Publication date, Abstract Text and Full Text"
   ]
  },
  {
   "cell_type": "code",
   "execution_count": 23,
   "metadata": {},
   "outputs": [],
   "source": [
    "# Normalize Authors \n",
    "def format_authors(json_data):\n",
    "    result =\"\"\n",
    "    for author in json_data:\n",
    "        if len(author['suffix']) == 0:\n",
    "            if len(result) > 0:\n",
    "                result = result + \"; \" + author['first'] + ' ' + author['last']\n",
    "            else:\n",
    "                result = author['first'] + ' ' + author['last']\n",
    "        else:\n",
    "             if len(result) > 0:\n",
    "                result = result + \"; \" + author['first'] + ' ' + author['suffix'] + ' ' + author['last']\n",
    "             else:\n",
    "                result = author['first'] + ' ' + author['suffix'] + ' ' + author['last']\n",
    "    return result"
   ]
  },
  {
   "cell_type": "markdown",
   "metadata": {},
   "source": [
    "Combine Full text body and make CSV file"
   ]
  },
  {
   "cell_type": "code",
   "execution_count": 24,
   "metadata": {},
   "outputs": [],
   "source": [
    "csv_modified = []\n",
    "sections = []\n",
    "for filename in files_for_analysis:\n",
    "        row = {\"paper_id\": None, \"publish_date\": None, \"title\": None, 'authors': None, \"abstract\": None, \"text\": None}\n",
    "        with open(filename) as json_file:\n",
    "            json_data = json.load(json_file)\n",
    "            row['paper_id'] = json_data['paper_id']\n",
    "            row['publish_date'] = get_publish_date(json_data['paper_id'])\n",
    "            row['title'] = json_data['metadata']['title']     \n",
    "            row['authors'] = format_authors(json_data['metadata']['authors'])\n",
    "            # abstracts\n",
    "            try:\n",
    "                abstracts = [a['text'] for a in json_data['abstract']]\n",
    "            except KeyError:\n",
    "                abstracts = None\n",
    "            if abstracts:\n",
    "                abstract = \"\\n\".join(abstracts)\n",
    "                row['abstract'] = abstract\n",
    "            else:\n",
    "                row['abstract'] = ''\n",
    "            \n",
    "            # main text with sections\n",
    "            texts = [(body['section'], body['text']) for body in json_data['body_text']]           \n",
    "            texts_summary = {body['section']: \"\" for body in json_data['body_text']}\n",
    "            for section, text in texts:\n",
    "                texts_summary[section] += text\n",
    "                sections.append(section)\n",
    "            body = \"\"\n",
    "            for section, text in texts_summary.items():\n",
    "                body += section\n",
    "                body += \"\\n\"\n",
    "                body += text\n",
    "                body += \"\\n\\n\"\n",
    "            row['text'] = body\n",
    "        csv_modified.append(row)            "
   ]
  },
  {
   "cell_type": "markdown",
   "metadata": {},
   "source": [
    "Clean duplicates by Publish date, Authors, Title and Abstract text"
   ]
  },
  {
   "cell_type": "code",
   "execution_count": 25,
   "metadata": {},
   "outputs": [
    {
     "data": {
      "text/html": [
       "<div>\n",
       "<style scoped>\n",
       "    .dataframe tbody tr th:only-of-type {\n",
       "        vertical-align: middle;\n",
       "    }\n",
       "\n",
       "    .dataframe tbody tr th {\n",
       "        vertical-align: top;\n",
       "    }\n",
       "\n",
       "    .dataframe thead th {\n",
       "        text-align: right;\n",
       "    }\n",
       "</style>\n",
       "<table border=\"1\" class=\"dataframe\">\n",
       "  <thead>\n",
       "    <tr style=\"text-align: right;\">\n",
       "      <th></th>\n",
       "      <th>paper_id</th>\n",
       "      <th>publish_date</th>\n",
       "      <th>title</th>\n",
       "      <th>authors</th>\n",
       "      <th>abstract</th>\n",
       "      <th>text</th>\n",
       "    </tr>\n",
       "  </thead>\n",
       "  <tbody>\n",
       "    <tr>\n",
       "      <th>count</th>\n",
       "      <td>16139</td>\n",
       "      <td>16139</td>\n",
       "      <td>16139</td>\n",
       "      <td>16139</td>\n",
       "      <td>16139</td>\n",
       "      <td>16139</td>\n",
       "    </tr>\n",
       "    <tr>\n",
       "      <th>unique</th>\n",
       "      <td>16139</td>\n",
       "      <td>146</td>\n",
       "      <td>15319</td>\n",
       "      <td>15195</td>\n",
       "      <td>5658</td>\n",
       "      <td>15944</td>\n",
       "    </tr>\n",
       "    <tr>\n",
       "      <th>top</th>\n",
       "      <td>46126fcffd5e985520f26e55b599ba874fb64b27</td>\n",
       "      <td>2020-04-17 00:00:00</td>\n",
       "      <td></td>\n",
       "      <td></td>\n",
       "      <td></td>\n",
       "      <td>Declaration of Competing Interest\\nThe authors...</td>\n",
       "    </tr>\n",
       "    <tr>\n",
       "      <th>freq</th>\n",
       "      <td>1</td>\n",
       "      <td>477</td>\n",
       "      <td>514</td>\n",
       "      <td>351</td>\n",
       "      <td>10417</td>\n",
       "      <td>30</td>\n",
       "    </tr>\n",
       "    <tr>\n",
       "      <th>first</th>\n",
       "      <td>NaN</td>\n",
       "      <td>2020-01-01 00:00:00</td>\n",
       "      <td>NaN</td>\n",
       "      <td>NaN</td>\n",
       "      <td>NaN</td>\n",
       "      <td>NaN</td>\n",
       "    </tr>\n",
       "    <tr>\n",
       "      <th>last</th>\n",
       "      <td>NaN</td>\n",
       "      <td>2020-05-26 00:00:00</td>\n",
       "      <td>NaN</td>\n",
       "      <td>NaN</td>\n",
       "      <td>NaN</td>\n",
       "      <td>NaN</td>\n",
       "    </tr>\n",
       "  </tbody>\n",
       "</table>\n",
       "</div>"
      ],
      "text/plain": [
       "                                        paper_id         publish_date  title  \\\n",
       "count                                      16139                16139  16139   \n",
       "unique                                     16139                  146  15319   \n",
       "top     46126fcffd5e985520f26e55b599ba874fb64b27  2020-04-17 00:00:00          \n",
       "freq                                           1                  477    514   \n",
       "first                                        NaN  2020-01-01 00:00:00    NaN   \n",
       "last                                         NaN  2020-05-26 00:00:00    NaN   \n",
       "\n",
       "       authors abstract                                               text  \n",
       "count    16139    16139                                              16139  \n",
       "unique   15195     5658                                              15944  \n",
       "top                      Declaration of Competing Interest\\nThe authors...  \n",
       "freq       351    10417                                                 30  \n",
       "first      NaN      NaN                                                NaN  \n",
       "last       NaN      NaN                                                NaN  "
      ]
     },
     "execution_count": 25,
     "metadata": {},
     "output_type": "execute_result"
    }
   ],
   "source": [
    "df_results = pd.json_normalize(csv_modified)\n",
    "df_2020_clean_results = df_results.drop_duplicates(['publish_date','authors', 'title', 'abstract'])\n",
    "df_2020_clean_results.describe(include='all')"
   ]
  },
  {
   "cell_type": "markdown",
   "metadata": {},
   "source": [
    "Clean duplicates by Full text"
   ]
  },
  {
   "cell_type": "code",
   "execution_count": 26,
   "metadata": {},
   "outputs": [
    {
     "data": {
      "text/html": [
       "<div>\n",
       "<style scoped>\n",
       "    .dataframe tbody tr th:only-of-type {\n",
       "        vertical-align: middle;\n",
       "    }\n",
       "\n",
       "    .dataframe tbody tr th {\n",
       "        vertical-align: top;\n",
       "    }\n",
       "\n",
       "    .dataframe thead th {\n",
       "        text-align: right;\n",
       "    }\n",
       "</style>\n",
       "<table border=\"1\" class=\"dataframe\">\n",
       "  <thead>\n",
       "    <tr style=\"text-align: right;\">\n",
       "      <th></th>\n",
       "      <th>paper_id</th>\n",
       "      <th>publish_date</th>\n",
       "      <th>title</th>\n",
       "      <th>authors</th>\n",
       "      <th>abstract</th>\n",
       "      <th>text</th>\n",
       "    </tr>\n",
       "  </thead>\n",
       "  <tbody>\n",
       "    <tr>\n",
       "      <th>count</th>\n",
       "      <td>15944</td>\n",
       "      <td>15944</td>\n",
       "      <td>15944</td>\n",
       "      <td>15944</td>\n",
       "      <td>15944</td>\n",
       "      <td>15944</td>\n",
       "    </tr>\n",
       "    <tr>\n",
       "      <th>unique</th>\n",
       "      <td>15944</td>\n",
       "      <td>146</td>\n",
       "      <td>15131</td>\n",
       "      <td>15023</td>\n",
       "      <td>5658</td>\n",
       "      <td>15944</td>\n",
       "    </tr>\n",
       "    <tr>\n",
       "      <th>top</th>\n",
       "      <td>46126fcffd5e985520f26e55b599ba874fb64b27</td>\n",
       "      <td>2020-04-17 00:00:00</td>\n",
       "      <td></td>\n",
       "      <td></td>\n",
       "      <td></td>\n",
       "      <td>\\nServicio de Dermatología. Hospital Universit...</td>\n",
       "    </tr>\n",
       "    <tr>\n",
       "      <th>freq</th>\n",
       "      <td>1</td>\n",
       "      <td>474</td>\n",
       "      <td>513</td>\n",
       "      <td>350</td>\n",
       "      <td>10225</td>\n",
       "      <td>1</td>\n",
       "    </tr>\n",
       "    <tr>\n",
       "      <th>first</th>\n",
       "      <td>NaN</td>\n",
       "      <td>2020-01-01 00:00:00</td>\n",
       "      <td>NaN</td>\n",
       "      <td>NaN</td>\n",
       "      <td>NaN</td>\n",
       "      <td>NaN</td>\n",
       "    </tr>\n",
       "    <tr>\n",
       "      <th>last</th>\n",
       "      <td>NaN</td>\n",
       "      <td>2020-05-26 00:00:00</td>\n",
       "      <td>NaN</td>\n",
       "      <td>NaN</td>\n",
       "      <td>NaN</td>\n",
       "      <td>NaN</td>\n",
       "    </tr>\n",
       "  </tbody>\n",
       "</table>\n",
       "</div>"
      ],
      "text/plain": [
       "                                        paper_id         publish_date  title  \\\n",
       "count                                      15944                15944  15944   \n",
       "unique                                     15944                  146  15131   \n",
       "top     46126fcffd5e985520f26e55b599ba874fb64b27  2020-04-17 00:00:00          \n",
       "freq                                           1                  474    513   \n",
       "first                                        NaN  2020-01-01 00:00:00    NaN   \n",
       "last                                         NaN  2020-05-26 00:00:00    NaN   \n",
       "\n",
       "       authors abstract                                               text  \n",
       "count    15944    15944                                              15944  \n",
       "unique   15023     5658                                              15944  \n",
       "top                      \\nServicio de Dermatología. Hospital Universit...  \n",
       "freq       350    10225                                                  1  \n",
       "first      NaN      NaN                                                NaN  \n",
       "last       NaN      NaN                                                NaN  "
      ]
     },
     "execution_count": 26,
     "metadata": {},
     "output_type": "execute_result"
    }
   ],
   "source": [
    "df_2020_results = df_2020_clean_results.drop_duplicates(['text'])\n",
    "df_2020_results.describe(include='all')"
   ]
  },
  {
   "cell_type": "code",
   "execution_count": 28,
   "metadata": {},
   "outputs": [],
   "source": [
    "df2020_doc = df_2020_results['publish_date'].groupby([df_2020_results['publish_date'].dt.month]).agg('count').reset_index(name=\"count\")\n",
    "df2020_doc.rename(columns={'publish_date':'Month'}, inplace=True)"
   ]
  },
  {
   "cell_type": "markdown",
   "metadata": {},
   "source": [
    "Lets inspect the number of publications in our dataset by month"
   ]
  },
  {
   "cell_type": "code",
   "execution_count": 29,
   "metadata": {},
   "outputs": [
    {
     "data": {
      "image/png": "[encoded data removed]",
      "text/plain": [
       "<Figure size 432x288 with 1 Axes>"
      ]
     },
     "metadata": {
      "needs_background": "light"
     },
     "output_type": "display_data"
    }
   ],
   "source": [
    "df2020_doc.plot.bar(x = \"Month\", y = \"count\", title=\"Documents Number Distribution By Month 2020 year\", rot=0)\n",
    "plt.show(block=True);"
   ]
  },
  {
   "cell_type": "markdown",
   "metadata": {},
   "source": [
    "As we can see the most documents were published in April."
   ]
  },
  {
   "cell_type": "code",
   "execution_count": 93,
   "metadata": {},
   "outputs": [],
   "source": [
    "df_2020_results.to_csv(FORMATTED_FILES_DIR + RESULTS_FILE_NAME, index=False, encoding='utf-8')"
   ]
  },
  {
   "cell_type": "markdown",
   "metadata": {},
   "source": [
    "### Read Drugs data from RxNav Rest API"
   ]
  },
  {
   "cell_type": "markdown",
   "metadata": {},
   "source": [
    "Get drugs names from RxNav Rest API <br/>\n",
    "uses term types (TTYs)\n",
    "- IN - Ingredient. A compound or moiety that gives the drug its distinctive clinical properties. Ingredients generally use the United States Adopted Name (USAN). E.g. *Fluoxetine*\n",
    "- BN - Brand Name. A proprietary name for a family of products containing a specific active ingredient. E.g. *Prozac*"
   ]
  },
  {
   "cell_type": "code",
   "execution_count": 34,
   "metadata": {},
   "outputs": [],
   "source": [
    "RXNORM_IN_URL = 'https://rxnav.nlm.nih.gov/REST/allconcepts?tty=IN'\n",
    "RXNORM_BN_URL = 'https://rxnav.nlm.nih.gov/REST/allconcepts?tty=BN'"
   ]
  },
  {
   "cell_type": "code",
   "execution_count": 35,
   "metadata": {},
   "outputs": [],
   "source": [
    "response_in = requests.get(RXNORM_IN_URL)\n",
    "tree_in = ET.fromstring(response_in.content)\n",
    "response_bn = requests.get(RXNORM_BN_URL)\n",
    "tree_bn = ET.fromstring(response_bn.content)"
   ]
  },
  {
   "cell_type": "code",
   "execution_count": 36,
   "metadata": {},
   "outputs": [
    {
     "name": "stdout",
     "output_type": "stream",
     "text": [
      "Length =  12587\n"
     ]
    }
   ],
   "source": [
    "drugs_list = []\n",
    "# Find names\n",
    "for Variable in tree_in.findall('*//name'):\n",
    "        drugs_list.append(Variable.text)\n",
    "print(\"Length = \", len(drugs_list))"
   ]
  },
  {
   "cell_type": "code",
   "execution_count": 37,
   "metadata": {},
   "outputs": [
    {
     "name": "stdout",
     "output_type": "stream",
     "text": [
      "Length =  18176\n"
     ]
    }
   ],
   "source": [
    "for Variable in tree_bn.findall('*//name'):\n",
    "        drugs_list.append(Variable.text)\n",
    "print(\"Length = \", len(drugs_list))"
   ]
  },
  {
   "cell_type": "markdown",
   "metadata": {},
   "source": [
    "Create a set of Drugs names (unique)"
   ]
  },
  {
   "cell_type": "code",
   "execution_count": 38,
   "metadata": {},
   "outputs": [],
   "source": [
    "drugs_unique = list(set(drugs_list))\n",
    "drugs_unique.sort()"
   ]
  },
  {
   "cell_type": "markdown",
   "metadata": {},
   "source": [
    "Save drugs to file"
   ]
  },
  {
   "cell_type": "code",
   "execution_count": 39,
   "metadata": {},
   "outputs": [],
   "source": [
    "with open(FORMATTED_FILES_DIR + DRUGS_FILE_NAME, \"w\") as outfile:\n",
    "    outfile.write(\"\\n\".join(drugs_unique))"
   ]
  },
  {
   "cell_type": "markdown",
   "metadata": {},
   "source": [
    "## 3. Methodology<a name=\"methodology\"></a>"
   ]
  },
  {
   "cell_type": "markdown",
   "metadata": {},
   "source": [
    "Synonyms of COVID-19"
   ]
  },
  {
   "cell_type": "code",
   "execution_count": 40,
   "metadata": {},
   "outputs": [],
   "source": [
    "covid_names = [\n",
    "    \"covid-19\",\n",
    "    \"covid19\",\n",
    "    \"2019-ncov\",\n",
    "    \"2019ncov\",\n",
    "    \"coronavirus\",\n",
    "    \"sars-cov-2\",\n",
    "    \"sarscov2\"]"
   ]
  },
  {
   "cell_type": "markdown",
   "metadata": {},
   "source": [
    "Read our previosuly created 'Result Cleaned' CSV file with Full Text articles from 2020 year"
   ]
  },
  {
   "cell_type": "code",
   "execution_count": 41,
   "metadata": {},
   "outputs": [
    {
     "name": "stdout",
     "output_type": "stream",
     "text": [
      "CSV Results file size =  15945\n"
     ]
    }
   ],
   "source": [
    "csv_results = []\n",
    "with codecs.open(FORMATTED_FILES_DIR + RESULTS_FILE_NAME,'r', encoding='utf-8')as f:\n",
    "     csv_results = list(csv.reader(f))\n",
    "\n",
    "print(\"CSV Results file size = \", len(csv_results))        "
   ]
  },
  {
   "cell_type": "code",
   "execution_count": 42,
   "metadata": {},
   "outputs": [
    {
     "name": "stdout",
     "output_type": "stream",
     "text": [
      "['paper_id', 'publish_date', 'title', 'authors', 'abstract', 'text']\n"
     ]
    }
   ],
   "source": [
    "print(csv_results[0])"
   ]
  },
  {
   "cell_type": "markdown",
   "metadata": {},
   "source": [
    "Create a dictionary of sentences for each document"
   ]
  },
  {
   "cell_type": "code",
   "execution_count": 43,
   "metadata": {},
   "outputs": [
    {
     "name": "stdout",
     "output_type": "stream",
     "text": [
      "All documents number:  15945\n"
     ]
    }
   ],
   "source": [
    "all_sentences = {}\n",
    "for i, record in enumerate(csv_results, start=1):\n",
    "    sentences = []\n",
    "    # get full text\n",
    "    # add additional spaces arounf dots to improve sentence\n",
    "    full_text =  re.sub(r'([a-z])\\.([A-Z])', r'\\1. \\2', record[5])\n",
    "    full_text =  re.sub(r'([a-z])\\.([0-9])', r'\\1. \\2', full_text)\n",
    "    full_text =  re.sub(r'([0-9]\\])\\.([A-Z])', r'\\1. \\2', full_text)\n",
    "    full_text =  re.sub(r'([0-9]\\))\\.([A-Z])', r'\\1. \\2', full_text)   \n",
    "    sent_text = nltk.sent_tokenize(full_text) \n",
    "    for sentence in sent_text:\n",
    "        #remove New Line from the file\n",
    "        str1 = sentence.replace(\"\\n\", \"\")\n",
    "        sentences.append(str1)    \n",
    "    all_sentences[record[0]] = sentences\n",
    "print(\"All documents number: \", len(all_sentences))                            "
   ]
  },
  {
   "cell_type": "markdown",
   "metadata": {},
   "source": [
    "#### Normalize words (lowercase and remove stop words)"
   ]
  },
  {
   "cell_type": "code",
   "execution_count": 44,
   "metadata": {},
   "outputs": [
    {
     "name": "stdout",
     "output_type": "stream",
     "text": [
      "[nltk_data] Downloading package stopwords to /usr/share/nltk_data...\n",
      "[nltk_data]   Package stopwords is already up-to-date!\n"
     ]
    },
    {
     "data": {
      "text/plain": [
       "True"
      ]
     },
     "execution_count": 44,
     "metadata": {},
     "output_type": "execute_result"
    }
   ],
   "source": [
    "nltk.download('stopwords')"
   ]
  },
  {
   "cell_type": "markdown",
   "metadata": {},
   "source": [
    "We are using pre-defined Stop words list from NLTK library and manually add some stop words for the drugs names."
   ]
  },
  {
   "cell_type": "code",
   "execution_count": 45,
   "metadata": {},
   "outputs": [],
   "source": [
    "stop_words = stopwords.words('english')\n",
    "drugs_stop_words = ['rna', 'lead', 'air', 'oxygen', 'perform', 'water', 'diamond', 'matrix', 'gold', 'today',\n",
    "                   'sodium', 'blockade', 'align', 'copper', 'excel','calcium', 'nicotine', 'iron',\n",
    "                   'latex', 'fiber', 'legacy', 'formalin', 'tomorrow', 'formaldehyde', 'methanol',\n",
    "                   'pronto', 'android','longrange', 'overtime','acetone','revolution',\n",
    "                   'glucose', 'ethanol', 'cocaine','heroin', 'supreme', 'zinc', 'pacebo', 'glycine',\n",
    "                   'poliovirus', 'protease']"
   ]
  },
  {
   "cell_type": "markdown",
   "metadata": {},
   "source": [
    "Remove noise: punctuation, stop words and lowercase all words. <br/>\n",
    "I decided not to use Lemmatizer because we are going to use Drugs Names for search (not common English words)"
   ]
  },
  {
   "cell_type": "code",
   "execution_count": 46,
   "metadata": {},
   "outputs": [],
   "source": [
    "def remove_noise(tokens, stop_words = ()):\n",
    "    cleaned_tokens = []\n",
    "    for token in tokens:\n",
    "#        lemmatizer = WordNetLemmatizer()\n",
    "#        token = lemmatizer.lemmatize(token)\n",
    "        if len(token) > 0 and token not in string.punctuation and token.lower() not in stop_words:\n",
    "            cleaned_tokens.append(token.lower())\n",
    "    return cleaned_tokens"
   ]
  },
  {
   "cell_type": "markdown",
   "metadata": {},
   "source": [
    "#### Define sentences with 'COVID-19' and synonyms "
   ]
  },
  {
   "cell_type": "code",
   "execution_count": 47,
   "metadata": {},
   "outputs": [
    {
     "name": "stdout",
     "output_type": "stream",
     "text": [
      "Number of Documents with Covid-19 mentioned:  13121\n"
     ]
    }
   ],
   "source": [
    "#Define sentences' indexes with Covid-19 mentioned\n",
    "#Iterate Documents\n",
    "covid19_sentences_indexes = {}\n",
    "for key, doc in all_sentences.items():\n",
    "    #Iterate Sentences in document\n",
    "    for i, sentence in enumerate(doc):\n",
    "         tokenized_text = nltk.word_tokenize(sentence)\n",
    "         #lowercase all words from the sentence\n",
    "         words_lower = [item.lower() for item in tokenized_text]\n",
    "         if any(word in words_lower for word in covid_names):          \n",
    "            if key not in covid19_sentences_indexes:\n",
    "                 covid19_sentences_indexes[key] = [i]\n",
    "            else:\n",
    "                 covid19_sentences_indexes[key].append(i)\n",
    "                \n",
    "# Number of sentences with Covid-19 mentioned\n",
    "print(\"Number of Documents with Covid-19 mentioned: \", len(covid19_sentences_indexes))    "
   ]
  },
  {
   "cell_type": "markdown",
   "metadata": {},
   "source": [
    "Lowercase all drugs names and add 'Arbidol' because it absent in RxNorm  database."
   ]
  },
  {
   "cell_type": "code",
   "execution_count": 48,
   "metadata": {},
   "outputs": [],
   "source": [
    "#lowercase all drugs\n",
    "drugs_unique_lower = [item.lower() for item in drugs_unique]\n",
    "#remove stop words\n",
    "drugs_unique_lower_wstop = list(filter(lambda w: w not in drugs_stop_words, drugs_unique_lower))\n",
    "drugs_unique_lower_wstop.append('arbidol')"
   ]
  },
  {
   "cell_type": "code",
   "execution_count": 49,
   "metadata": {},
   "outputs": [
    {
     "data": {
      "text/plain": [
       "18137"
      ]
     },
     "execution_count": 49,
     "metadata": {},
     "output_type": "execute_result"
    }
   ],
   "source": [
    "len(drugs_unique_lower_wstop)"
   ]
  },
  {
   "cell_type": "markdown",
   "metadata": {},
   "source": [
    "#### Define sentences with Drugs mentioned nearest the 'Covid-19' sentenses"
   ]
  },
  {
   "cell_type": "code",
   "execution_count": 50,
   "metadata": {},
   "outputs": [
    {
     "name": "stdout",
     "output_type": "stream",
     "text": [
      "Number of sentences with drugs mentioned:  2912\n"
     ]
    }
   ],
   "source": [
    "windows_size = 2\n",
    "drugs_sentences_indexes = {}\n",
    "#Iterate thru Documents\n",
    "for key, s_indexes in covid19_sentences_indexes.items():\n",
    "    passed_indexes = []\n",
    "    for i, index in enumerate(s_indexes):\n",
    "    #check current sentence and windows_size ahead sentences for Drugs\n",
    "        for j in range(windows_size):\n",
    "            current_index = index + j\n",
    "            if current_index >= len(all_sentences[key]):\n",
    "                continue\n",
    "            current_sentence = all_sentences[key][current_index]\n",
    "            tokenized_text = nltk.word_tokenize(current_sentence)\n",
    "            #lowercase all words from the sentence and clear noise\n",
    "            #words_lower = [item.lower() for item in tokenized_text]\n",
    "            tokens_cleaned = remove_noise(tokenized_text, stop_words)\n",
    "            # check Drugs\n",
    "            if (current_index not in passed_indexes) & (any(word in tokens_cleaned for word in drugs_unique_lower_wstop)):\n",
    "                   if key not in drugs_sentences_indexes:\n",
    "                        drugs_sentences_indexes[key] = [current_index]\n",
    "                   else:\n",
    "                        drugs_sentences_indexes[key].append(current_index)                        \n",
    "                   passed_indexes.append(current_index)\n",
    "\n",
    "# Number of sentences with drugs mentioned\n",
    "print(\"Number of sentences with drugs mentioned: \", len(drugs_sentences_indexes))      \n"
   ]
  },
  {
   "cell_type": "code",
   "execution_count": 51,
   "metadata": {},
   "outputs": [],
   "source": [
    "# Create a file with Drugs and nearby Coronavirus sentences\n",
    "drugs_sentences_result ={}\n",
    "all_drug_sentences = []\n",
    "for key, s_indexes in drugs_sentences_indexes.items():\n",
    "     for i, index in enumerate(s_indexes):\n",
    "            current_sentence = all_sentences[key][index]     \n",
    "            all_drug_sentences.append(current_sentence)\n",
    "            if key not in drugs_sentences_result:\n",
    "                drugs_sentences_result[key] = [current_sentence]\n",
    "            else:\n",
    "                drugs_sentences_result[key].append(current_sentence)"
   ]
  },
  {
   "cell_type": "markdown",
   "metadata": {},
   "source": [
    "Save the file with Drugs and neaby Coronavirus sentences"
   ]
  },
  {
   "cell_type": "code",
   "execution_count": 52,
   "metadata": {},
   "outputs": [
    {
     "data": {
      "text/html": [
       "<div>\n",
       "<style scoped>\n",
       "    .dataframe tbody tr th:only-of-type {\n",
       "        vertical-align: middle;\n",
       "    }\n",
       "\n",
       "    .dataframe tbody tr th {\n",
       "        vertical-align: top;\n",
       "    }\n",
       "\n",
       "    .dataframe thead th {\n",
       "        text-align: right;\n",
       "    }\n",
       "</style>\n",
       "<table border=\"1\" class=\"dataframe\">\n",
       "  <thead>\n",
       "    <tr style=\"text-align: right;\">\n",
       "      <th></th>\n",
       "      <th>0</th>\n",
       "    </tr>\n",
       "  </thead>\n",
       "  <tbody>\n",
       "    <tr>\n",
       "      <th>PMC7063555</th>\n",
       "      <td>[However, many forms of specific treatment are...</td>\n",
       "    </tr>\n",
       "    <tr>\n",
       "      <th>PMC7113449</th>\n",
       "      <td>[Hence, COVID-19 patients would benefit from t...</td>\n",
       "    </tr>\n",
       "    <tr>\n",
       "      <th>PMC7113450</th>\n",
       "      <td>[While their effects are yet to be proven by c...</td>\n",
       "    </tr>\n",
       "    <tr>\n",
       "      <th>PMC7118684</th>\n",
       "      <td>[Par ailleurs, comme les autres CoV, SARS-CoV-...</td>\n",
       "    </tr>\n",
       "    <tr>\n",
       "      <th>PMC7139703</th>\n",
       "      <td>[Unsymmetrical aromatic disulfides obtained fr...</td>\n",
       "    </tr>\n",
       "  </tbody>\n",
       "</table>\n",
       "</div>"
      ],
      "text/plain": [
       "                                                            0\n",
       "PMC7063555  [However, many forms of specific treatment are...\n",
       "PMC7113449  [Hence, COVID-19 patients would benefit from t...\n",
       "PMC7113450  [While their effects are yet to be proven by c...\n",
       "PMC7118684  [Par ailleurs, comme les autres CoV, SARS-CoV-...\n",
       "PMC7139703  [Unsymmetrical aromatic disulfides obtained fr..."
      ]
     },
     "execution_count": 52,
     "metadata": {},
     "output_type": "execute_result"
    }
   ],
   "source": [
    "df_results_drugs = pd.json_normalize(drugs_sentences_result)\n",
    "df_results_drugs_tr = df_results_drugs.transpose()\n",
    "df_results_drugs_tr.head()"
   ]
  },
  {
   "cell_type": "code",
   "execution_count": 4,
   "metadata": {},
   "outputs": [],
   "source": [
    "df_sentiment = pd.read_csv(LABELED_SENTIMENT_FILE_NAME)"
   ]
  },
  {
   "cell_type": "code",
   "execution_count": 53,
   "metadata": {},
   "outputs": [],
   "source": [
    "import random\n",
    "random.shuffle(all_drug_sentences)\n",
    "df_results_drugs_tr.to_csv(FORMATTED_FILES_DIR + \"Drugs Sentence.csv\",  encoding='utf-8')\n",
    "with codecs.open(FORMATTED_FILES_DIR + \"Drugs Sentences All.csv\",'w', encoding='utf-8')as f:\n",
    "     f.write(\"\\n\".join(all_drug_sentences))\n",
    "        \n",
    "        def label_category(score):\n",
    "    return 'positive' if score >=6  else 'negative' if score >= 4 else 'neutral' "
   ]
  },
  {
   "cell_type": "code",
   "execution_count": 2,
   "metadata": {},
   "outputs": [],
   "source": [
    "#create sentiment feature from ratings\n",
    "if rating > 4 sentiment = neutral\n",
    "if rating > 6 sentiment = positive\n",
    "if rating < 5 sentiment = negative\n",
    "merged_data['sentiment'] = merged_data[\"rating\"]"
   ]
  },
  {
   "attachments": {
    "image.png": {
     "image/png": "[encoded data removed]"
    }
   },
   "cell_type": "markdown",
   "metadata": {},
   "source": [
    "![image.png](attachment:image.png)"
   ]
  },
  {
   "cell_type": "code",
   "execution_count": 58,
   "metadata": {},
   "outputs": [
    {
     "data": {
      "image/png": "[encoded data removed]",
      "text/plain": [
       "<Figure size 432x288 with 1 Axes>"
      ]
     },
     "metadata": {
      "needs_background": "light"
     },
     "output_type": "display_data"
    }
   ],
   "source": [
    "dfc.plot.bar(x = \"true_label\", y = \"count\", rot=70, title=\"Sentiment categories disribution\");\n",
    "plt.show(block=True);"
   ]
  },
  {
   "cell_type": "markdown",
   "metadata": {},
   "source": [
    "### Vader Sentiment Analysis\n",
    "VADER (Valence Aware Dictionary and sEntiment Reasoner) is a lexicon and rule-based sentiment analysis tool that is specifically attuned to sentiments expressed in social media. <br/>\n"
   ]
  },
  {
   "cell_type": "code",
   "execution_count": 59,
   "metadata": {},
   "outputs": [],
   "source": [
    "vader = SentimentIntensityAnalyzer()"
   ]
  },
  {
   "cell_type": "code",
   "execution_count": 60,
   "metadata": {},
   "outputs": [],
   "source": [
    "def vader_score(text):\n",
    "        return vader.polarity_scores(text)['compound']\n",
    "    \n",
    "def vader_category(score):\n",
    "        return 'positive' if score > 0 else 'negative' if score < 0 else 'neutral' "
   ]
  },
  {
   "cell_type": "code",
   "execution_count": 61,
   "metadata": {},
   "outputs": [
    {
     "data": {
      "text/html": [
       "<div>\n",
       "<style scoped>\n",
       "    .dataframe tbody tr th:only-of-type {\n",
       "        vertical-align: middle;\n",
       "    }\n",
       "\n",
       "    .dataframe tbody tr th {\n",
       "        vertical-align: top;\n",
       "    }\n",
       "\n",
       "    .dataframe thead th {\n",
       "        text-align: right;\n",
       "    }\n",
       "</style>\n",
       "<table border=\"1\" class=\"dataframe\">\n",
       "  <thead>\n",
       "    <tr style=\"text-align: right;\">\n",
       "      <th></th>\n",
       "      <th>sentence</th>\n",
       "      <th>true_label</th>\n",
       "      <th>prediction</th>\n",
       "    </tr>\n",
       "  </thead>\n",
       "  <tbody>\n",
       "    <tr>\n",
       "      <th>0</th>\n",
       "      <td>However, it is not clear whether the anti-viru...</td>\n",
       "      <td>neutral</td>\n",
       "      <td>negative</td>\n",
       "    </tr>\n",
       "    <tr>\n",
       "      <th>1</th>\n",
       "      <td>However, the use of ribavirin is associated wi...</td>\n",
       "      <td>negative</td>\n",
       "      <td>positive</td>\n",
       "    </tr>\n",
       "    <tr>\n",
       "      <th>2</th>\n",
       "      <td>According to preliminary reports [50 , 51] fro...</td>\n",
       "      <td>positive</td>\n",
       "      <td>negative</td>\n",
       "    </tr>\n",
       "    <tr>\n",
       "      <th>3</th>\n",
       "      <td>Notably, inhibition of mTOR with sirolimus red...</td>\n",
       "      <td>positive</td>\n",
       "      <td>negative</td>\n",
       "    </tr>\n",
       "    <tr>\n",
       "      <th>4</th>\n",
       "      <td>Chlorpromazine, an antipsychotic (via dopamine...</td>\n",
       "      <td>neutral</td>\n",
       "      <td>negative</td>\n",
       "    </tr>\n",
       "    <tr>\n",
       "      <th>...</th>\n",
       "      <td>...</td>\n",
       "      <td>...</td>\n",
       "      <td>...</td>\n",
       "    </tr>\n",
       "    <tr>\n",
       "      <th>495</th>\n",
       "      <td>Tocilizumab is known to improve insulin resist...</td>\n",
       "      <td>positive</td>\n",
       "      <td>positive</td>\n",
       "    </tr>\n",
       "    <tr>\n",
       "      <th>496</th>\n",
       "      <td>Remdesivir is now being tested in several clin...</td>\n",
       "      <td>neutral</td>\n",
       "      <td>positive</td>\n",
       "    </tr>\n",
       "    <tr>\n",
       "      <th>497</th>\n",
       "      <td>This analysis provides a rational dose optimis...</td>\n",
       "      <td>neutral</td>\n",
       "      <td>positive</td>\n",
       "    </tr>\n",
       "    <tr>\n",
       "      <th>498</th>\n",
       "      <td>Both servers predictions were consistent and p...</td>\n",
       "      <td>neutral</td>\n",
       "      <td>neutral</td>\n",
       "    </tr>\n",
       "    <tr>\n",
       "      <th>499</th>\n",
       "      <td>In vitro cell cultures, HCQ seems to be a more...</td>\n",
       "      <td>positive</td>\n",
       "      <td>negative</td>\n",
       "    </tr>\n",
       "  </tbody>\n",
       "</table>\n",
       "<p>500 rows × 3 columns</p>\n",
       "</div>"
      ],
      "text/plain": [
       "                                              sentence true_label prediction\n",
       "0    However, it is not clear whether the anti-viru...    neutral   negative\n",
       "1    However, the use of ribavirin is associated wi...   negative   positive\n",
       "2    According to preliminary reports [50 , 51] fro...   positive   negative\n",
       "3    Notably, inhibition of mTOR with sirolimus red...   positive   negative\n",
       "4    Chlorpromazine, an antipsychotic (via dopamine...    neutral   negative\n",
       "..                                                 ...        ...        ...\n",
       "495  Tocilizumab is known to improve insulin resist...   positive   positive\n",
       "496  Remdesivir is now being tested in several clin...    neutral   positive\n",
       "497  This analysis provides a rational dose optimis...    neutral   positive\n",
       "498  Both servers predictions were consistent and p...    neutral    neutral\n",
       "499  In vitro cell cultures, HCQ seems to be a more...   positive   negative\n",
       "\n",
       "[500 rows x 3 columns]"
      ]
     },
     "execution_count": 61,
     "metadata": {},
     "output_type": "execute_result"
    }
   ],
   "source": [
    "df_sentiment_vader = df_sentiment.copy()\n",
    "df_sentiment_vader['score'] = df_sentiment_vader['sentence'].apply(vader_score)\n",
    "df_sentiment_vader['prediction'] = df_sentiment_vader['score'].apply(vader_category)\n",
    "df_sentiment_vader = df_sentiment_vader.drop('score', axis=1)\n",
    "df_sentiment_vader = df_sentiment_vader.drop('label', axis=1)\n",
    "df_sentiment_vader"
   ]
  },
  {
   "cell_type": "code",
   "execution_count": 62,
   "metadata": {},
   "outputs": [],
   "source": [
    "y_true = df_sentiment_vader['true_label']\n",
    "y_pred = df_sentiment_vader['prediction']"
   ]
  },
  {
   "cell_type": "markdown",
   "metadata": {},
   "source": [
    "#### Calcuate model performace for Vader classification"
   ]
  },
  {
   "cell_type": "code",
   "execution_count": 63,
   "metadata": {},
   "outputs": [
    {
     "name": "stdout",
     "output_type": "stream",
     "text": [
      "Confusion Matrix :\n",
      "[[ 52  12  23]\n",
      " [ 57  66  56]\n",
      " [ 62  50 122]]\n",
      "Accuracy Score : 0.48\n",
      "Report : \n",
      "              precision    recall  f1-score   support\n",
      "\n",
      "    negative       0.30      0.60      0.40        87\n",
      "     neutral       0.52      0.37      0.43       179\n",
      "    positive       0.61      0.52      0.56       234\n",
      "\n",
      "    accuracy                           0.48       500\n",
      "   macro avg       0.48      0.50      0.46       500\n",
      "weighted avg       0.52      0.48      0.49       500\n",
      "\n"
     ]
    }
   ],
   "source": [
    "results = confusion_matrix(y_true, y_pred) \n",
    "print('Confusion Matrix :')\n",
    "print(results) \n",
    "print('Accuracy Score :',accuracy_score(y_true, y_pred)) \n",
    "print('Report : ')\n",
    "print(classification_report(y_true, y_pred))"
   ]
  },
  {
   "cell_type": "markdown",
   "metadata": {},
   "source": [
    "#### Display Confusion Matrix for Vader classification"
   ]
  },
  {
   "cell_type": "code",
   "execution_count": 64,
   "metadata": {},
   "outputs": [
    {
     "data": {
      "image/png": "[encoded data removed]",
      "text/plain": [
       "<Figure size 720x504 with 2 Axes>"
      ]
     },
     "metadata": {
      "needs_background": "light"
     },
     "output_type": "display_data"
    }
   ],
   "source": [
    "df_cm = pd.DataFrame(results, index = ['true neg', 'true neutr', 'true pos'], columns = ['pr neg', 'pr neutr', 'pr pos'])\n",
    "plt.figure(figsize = (10,7))\n",
    "ax = sn.heatmap(df_cm, cmap='Blues', annot=True, fmt='d')"
   ]
  },
  {
   "cell_type": "markdown",
   "metadata": {},
   "source": [
    "**As we can see the accuracy is low - equal just random choice**"
   ]
  },
  {
   "cell_type": "markdown",
   "metadata": {},
   "source": [
    "### Summary table"
   ]
  },
  {
   "cell_type": "markdown",
   "metadata": {},
   "source": [
    "\n",
    "| Algorithm | Accuracy | F1 Macro         \n",
    "| - |------------- | -\n",
    "| Vader | 0.48 | 0.46\n",
    "\n"
   ]
  },
  {
   "cell_type": "markdown",
   "metadata": {},
   "source": [
    "### TextBlob Sentiment Analysis\n",
    "TextBlob is a popular Python library for processing textual data. It is built on top of NLTK, another popular Natural Language Processing toolbox for Python. <br/>\n",
    "TextBlob uses a sentiment lexicon (consisting of predefined words) to assign scores for each word, which are then averaged out using a weighted average to give an overall sentence sentiment score. <br/>\n",
    "Three scores: “polarity”, “subjectivity” and “intensity” are calculated for each word. <br/>\n",
    "We are interested only in “polarity”: <br/>\n",
    "&nbsp;&nbsp;&nbsp;negative vs. positive (-1.0 => +1.0) <br/> "
   ]
  },
  {
   "cell_type": "code",
   "execution_count": 65,
   "metadata": {},
   "outputs": [],
   "source": [
    "def textblob_score(text):\n",
    "        return TextBlob(text).sentiment.polarity\n",
    "    \n",
    "def textblob_category(score):\n",
    "        return 'positive' if score > 0 else 'negative' if score < 0 else 'neutral' "
   ]
  },
  {
   "cell_type": "code",
   "execution_count": 66,
   "metadata": {},
   "outputs": [
    {
     "data": {
      "text/html": [
       "<div>\n",
       "<style scoped>\n",
       "    .dataframe tbody tr th:only-of-type {\n",
       "        vertical-align: middle;\n",
       "    }\n",
       "\n",
       "    .dataframe tbody tr th {\n",
       "        vertical-align: top;\n",
       "    }\n",
       "\n",
       "    .dataframe thead th {\n",
       "        text-align: right;\n",
       "    }\n",
       "</style>\n",
       "<table border=\"1\" class=\"dataframe\">\n",
       "  <thead>\n",
       "    <tr style=\"text-align: right;\">\n",
       "      <th></th>\n",
       "      <th>sentence</th>\n",
       "      <th>true_label</th>\n",
       "      <th>prediction</th>\n",
       "    </tr>\n",
       "  </thead>\n",
       "  <tbody>\n",
       "    <tr>\n",
       "      <th>0</th>\n",
       "      <td>However, it is not clear whether the anti-viru...</td>\n",
       "      <td>neutral</td>\n",
       "      <td>negative</td>\n",
       "    </tr>\n",
       "    <tr>\n",
       "      <th>1</th>\n",
       "      <td>However, the use of ribavirin is associated wi...</td>\n",
       "      <td>negative</td>\n",
       "      <td>positive</td>\n",
       "    </tr>\n",
       "    <tr>\n",
       "      <th>2</th>\n",
       "      <td>According to preliminary reports [50 , 51] fro...</td>\n",
       "      <td>positive</td>\n",
       "      <td>positive</td>\n",
       "    </tr>\n",
       "    <tr>\n",
       "      <th>3</th>\n",
       "      <td>Notably, inhibition of mTOR with sirolimus red...</td>\n",
       "      <td>positive</td>\n",
       "      <td>positive</td>\n",
       "    </tr>\n",
       "    <tr>\n",
       "      <th>4</th>\n",
       "      <td>Chlorpromazine, an antipsychotic (via dopamine...</td>\n",
       "      <td>neutral</td>\n",
       "      <td>positive</td>\n",
       "    </tr>\n",
       "  </tbody>\n",
       "</table>\n",
       "</div>"
      ],
      "text/plain": [
       "                                            sentence true_label prediction\n",
       "0  However, it is not clear whether the anti-viru...    neutral   negative\n",
       "1  However, the use of ribavirin is associated wi...   negative   positive\n",
       "2  According to preliminary reports [50 , 51] fro...   positive   positive\n",
       "3  Notably, inhibition of mTOR with sirolimus red...   positive   positive\n",
       "4  Chlorpromazine, an antipsychotic (via dopamine...    neutral   positive"
      ]
     },
     "execution_count": 66,
     "metadata": {},
     "output_type": "execute_result"
    }
   ],
   "source": [
    "df_sentiment_textblob = df_sentiment.copy()\n",
    "df_sentiment_textblob['score'] = df_sentiment_textblob['sentence'].apply(textblob_score)\n",
    "df_sentiment_textblob['prediction'] = df_sentiment_textblob['score'].apply(textblob_category)\n",
    "df_sentiment_textblob = df_sentiment_textblob.drop('score', axis=1)\n",
    "df_sentiment_textblob = df_sentiment_textblob.drop('label', axis=1)\n",
    "df_sentiment_textblob.head()"
   ]
  },
  {
   "cell_type": "markdown",
   "metadata": {},
   "source": [
    "#### Calcuate model performace for TextBlob classification"
   ]
  },
  {
   "cell_type": "code",
   "execution_count": 67,
   "metadata": {},
   "outputs": [],
   "source": [
    "y_true = df_sentiment_textblob['true_label']\n",
    "y_pred = df_sentiment_textblob['prediction']"
   ]
  },
  {
   "cell_type": "code",
   "execution_count": 68,
   "metadata": {},
   "outputs": [
    {
     "name": "stdout",
     "output_type": "stream",
     "text": [
      "Confusion Matrix :\n",
      "[[ 25  27  35]\n",
      " [ 37  74  68]\n",
      " [ 23  84 127]]\n",
      "Accuracy Score : 0.452\n",
      "Report : \n",
      "              precision    recall  f1-score   support\n",
      "\n",
      "    negative       0.29      0.29      0.29        87\n",
      "     neutral       0.40      0.41      0.41       179\n",
      "    positive       0.55      0.54      0.55       234\n",
      "\n",
      "    accuracy                           0.45       500\n",
      "   macro avg       0.42      0.41      0.41       500\n",
      "weighted avg       0.45      0.45      0.45       500\n",
      "\n"
     ]
    }
   ],
   "source": [
    "results = confusion_matrix(y_true, y_pred) \n",
    "print('Confusion Matrix :')\n",
    "print(results) \n",
    "print('Accuracy Score :',accuracy_score(y_true, y_pred)) \n",
    "print('Report : ')\n",
    "print(classification_report(y_true, y_pred))"
   ]
  },
  {
   "cell_type": "markdown",
   "metadata": {},
   "source": [
    "#### Display Confusion Matrix for TextBlob classification"
   ]
  },
  {
   "cell_type": "code",
   "execution_count": 69,
   "metadata": {},
   "outputs": [
    {
     "data": {
      "image/png": "[encoded data removed]",
      "text/plain": [
       "<Figure size 720x576 with 2 Axes>"
      ]
     },
     "metadata": {
      "needs_background": "light"
     },
     "output_type": "display_data"
    }
   ],
   "source": [
    "df_cm = pd.DataFrame(results, index = ['true neg', 'true neutr', 'true pos'], columns = ['pr neg', 'pr neutr', 'pr pos'])\n",
    "plt.figure(figsize = (10, 8))\n",
    "ax = sn.heatmap(df_cm, cmap='Blues', annot=True, fmt='d')"
   ]
  },
  {
   "cell_type": "markdown",
   "metadata": {},
   "source": [
    "**The results for TextBlob are worse than we saw for the Vader classifier**"
   ]
  },
  {
   "cell_type": "markdown",
   "metadata": {},
   "source": [
    "### Summary table"
   ]
  },
  {
   "cell_type": "markdown",
   "metadata": {},
   "source": [
    "\n",
    "| Algorithm | Accuracy | F1 Macro         \n",
    "| - |------------- | -\n",
    "| Vader | 0.48 | 0.46\n",
    "| TextBlob | 0.45 | 0.41\n"
   ]
  },
  {
   "cell_type": "code",
   "execution_count": 94,
   "metadata": {},
   "outputs": [
    {
     "data": {
      "text/html": [
       "<div>\n",
       "<style scoped>\n",
       "    .dataframe tbody tr th:only-of-type {\n",
       "        vertical-align: middle;\n",
       "    }\n",
       "\n",
       "    .dataframe tbody tr th {\n",
       "        vertical-align: top;\n",
       "    }\n",
       "\n",
       "    .dataframe thead th {\n",
       "        text-align: right;\n",
       "    }\n",
       "</style>\n",
       "<table border=\"1\" class=\"dataframe\">\n",
       "  <thead>\n",
       "    <tr style=\"text-align: right;\">\n",
       "      <th></th>\n",
       "      <th>label</th>\n",
       "      <th>sentence</th>\n",
       "      <th>true_label</th>\n",
       "    </tr>\n",
       "  </thead>\n",
       "  <tbody>\n",
       "    <tr>\n",
       "      <th>0</th>\n",
       "      <td>1</td>\n",
       "      <td>However, it is not clear whether the anti-viru...</td>\n",
       "      <td>neutral</td>\n",
       "    </tr>\n",
       "    <tr>\n",
       "      <th>1</th>\n",
       "      <td>0</td>\n",
       "      <td>However, the use of ribavirin is associated wi...</td>\n",
       "      <td>negative</td>\n",
       "    </tr>\n",
       "    <tr>\n",
       "      <th>2</th>\n",
       "      <td>2</td>\n",
       "      <td>According to preliminary reports [50 , 51] fro...</td>\n",
       "      <td>positive</td>\n",
       "    </tr>\n",
       "    <tr>\n",
       "      <th>3</th>\n",
       "      <td>2</td>\n",
       "      <td>Notably, inhibition of mTOR with sirolimus red...</td>\n",
       "      <td>positive</td>\n",
       "    </tr>\n",
       "    <tr>\n",
       "      <th>4</th>\n",
       "      <td>1</td>\n",
       "      <td>Chlorpromazine, an antipsychotic (via dopamine...</td>\n",
       "      <td>neutral</td>\n",
       "    </tr>\n",
       "  </tbody>\n",
       "</table>\n",
       "</div>"
      ],
      "text/plain": [
       "   label                                           sentence true_label\n",
       "0      1  However, it is not clear whether the anti-viru...    neutral\n",
       "1      0  However, the use of ribavirin is associated wi...   negative\n",
       "2      2  According to preliminary reports [50 , 51] fro...   positive\n",
       "3      2  Notably, inhibition of mTOR with sirolimus red...   positive\n",
       "4      1  Chlorpromazine, an antipsychotic (via dopamine...    neutral"
      ]
     },
     "execution_count": 94,
     "metadata": {},
     "output_type": "execute_result"
    }
   ],
   "source": [
    "df_sentiment_keras['label'] = df_sentiment_keras['true_label'].map({'neutral': 2, 'positive': 4, 'negative': 1})\n",
    "df_sentiment_keras.head()"
   ]
  },
  {
   "cell_type": "markdown",
   "metadata": {},
   "source": [
    "Split data on test (30%) and training (70%) sets"
   ]
  },
  {
   "cell_type": "code",
   "execution_count": 95,
   "metadata": {},
   "outputs": [],
   "source": [
    "X_train, X_test, y_train, y_test = train_test_split(df_sentiment_keras['sentence'], df_sentiment_keras['label'], test_size=0.3, random_state=42)"
   ]
  },
  {
   "cell_type": "markdown",
   "metadata": {},
   "source": [
    "Textual data has to be converted into numeric form before it can be used by deep learning models. <br/>\n",
    "One way to convert text to numbers is via word embeddings.\n",
    "In word embeddings, every word is represented as an n-dimensional dense vector. <br/> \n",
    "The words that are similar will have similar vector. Word embeddings techniques such as GloVe and Word2Vec have proven to be extremely efficient for converting words into corresponding dense vectors. The vector size is small and none of the indexes in the vector is actually empty. <br/>"
   ]
  },
  {
   "cell_type": "code",
   "execution_count": 96,
   "metadata": {},
   "outputs": [],
   "source": [
    "tokenizer = Tokenizer(num_words=5000)\n",
    "tokenizer.fit_on_texts(train_df['sentence'])\n",
    "\n",
    "X_train = tokenizer.texts_to_sequences(X_train)\n",
    "X_test = tokenizer.texts_to_sequences(X_test)\n",
    "\n",
    "vocab_size = len(tokenizer.word_index) + 1\n",
    "\n",
    "maxlen = 300\n",
    "\n",
    "X_train = pad_sequences(X_train, padding='post', maxlen=maxlen)\n",
    "X_test = pad_sequences(X_test, padding='post', maxlen=maxlen)"
   ]
  },
  {
   "cell_type": "markdown",
   "metadata": {},
   "source": [
    "Next, we need to load the built-in GloVe word embeddings. <br/>\n",
    "Finally, we will create an embedding matrix where rows will be equal to the number of words in the vocabulary (plus 1). <br/> \n",
    "The number of columns will be 100 since each word in the GloVe word embeddings that we loaded is represented as a 100 dimensional vector."
   ]
  },
  {
   "cell_type": "code",
   "execution_count": 97,
   "metadata": {},
   "outputs": [],
   "source": [
    "embeddings_dictionary = dict()\n",
    "glove_file = open(GLOVE_FILE_NAME, encoding=\"utf8\")\n",
    "\n",
    "for line in glove_file:\n",
    "    records = line.split()\n",
    "    word = records[0]\n",
    "    vector_dimensions = asarray(records[1:], dtype='float32')\n",
    "    embeddings_dictionary[word] = vector_dimensions\n",
    "glove_file.close()\n",
    "\n",
    "embedding_matrix = zeros((vocab_size, 100))\n",
    "for word, index in tokenizer.word_index.items():\n",
    "    embedding_vector = embeddings_dictionary.get(word)\n",
    "    if embedding_vector is not None:\n",
    "        embedding_matrix[index] = embedding_vector"
   ]
  },
  {
   "cell_type": "markdown",
   "metadata": {},
   "source": [
    "We will create a very simple model with one input layer (embedding layer), one LSTM layer with 128 neurons and one dense layer that will act as the output layer as well. <br/>\n",
    "Since we have 3 possible outputs, the number of neurons will be 3 and the activation function will be softmax. <br/>\n",
    "We will use the categorical_crossentropy as our loss function and adam as the optimization function."
   ]
  },
  {
   "cell_type": "code",
   "execution_count": 102,
   "metadata": {},
   "outputs": [
    {
     "name": "stdout",
     "output_type": "stream",
     "text": [
      "Model: \"model_3\"\n",
      "_________________________________________________________________\n",
      "Layer (type)                 Output Shape              Param #   \n",
      "=================================================================\n",
      "input_3 (InputLayer)         (None, 300)               0         \n",
      "_________________________________________________________________\n",
      "embedding_3 (Embedding)      (None, 300, 100)          261900    \n",
      "_________________________________________________________________\n",
      "lstm_3 (LSTM)                (None, 128)               117248    \n",
      "_________________________________________________________________\n",
      "dense_3 (Dense)              (None, 3)                 387       \n",
      "=================================================================\n",
      "Total params: 379,535\n",
      "Trainable params: 117,635\n",
      "Non-trainable params: 261,900\n",
      "_________________________________________________________________\n",
      "None\n"
     ]
    }
   ],
   "source": [
    "variables_for_classification = 3\n",
    "epochs = 5\n",
    "batch_size = 28\n",
    "\n",
    "deep_inputs = Input(shape=(maxlen,))\n",
    "embedding_layer = Embedding(vocab_size, 100, weights=[embedding_matrix], trainable=False)(deep_inputs)\n",
    "LSTM_Layer_1 = LSTM(128)(embedding_layer)\n",
    "dense_layer_1 = Dense(variables_for_classification, activation='sigmoid')(LSTM_Layer_1)\n",
    "model = Model(inputs=deep_inputs, outputs=dense_layer_1)\n",
    "\n",
    "model.compile(loss='binary_crossentropy', optimizer='adam', metrics=['acc'])\n",
    "print(model.summary())"
   ]
  },
  {
   "cell_type": "markdown",
   "metadata": {},
   "source": [
    "Convert labels to_categorical "
   ]
  },
  {
   "cell_type": "code",
   "execution_count": 99,
   "metadata": {},
   "outputs": [],
   "source": [
    "train_labels = to_categorical(y_train, num_classes=variables_for_classification)"
   ]
  },
  {
   "cell_type": "markdown",
   "metadata": {},
   "source": [
    "Train our model"
   ]
  },
  {
   "cell_type": "code",
   "execution_count": 103,
   "metadata": {},
   "outputs": [
    {
     "name": "stdout",
     "output_type": "stream",
     "text": [
      "Train on 280 samples, validate on 70 samples\n",
      "Epoch 1/5\n",
      "280/280 [==============================] - 3s 12ms/step - loss: 0.6674 - acc: 0.6667 - val_loss: 0.5973 - val_acc: 0.6667\n",
      "Epoch 2/5\n",
      "280/280 [==============================] - 3s 11ms/step - loss: 0.6183 - acc: 0.6667 - val_loss: 0.5935 - val_acc: 0.6667\n",
      "Epoch 3/5\n",
      "280/280 [==============================] - 3s 11ms/step - loss: 0.6078 - acc: 0.6667 - val_loss: 0.5689 - val_acc: 0.6667\n",
      "Epoch 4/5\n",
      "280/280 [==============================] - 3s 11ms/step - loss: 0.6088 - acc: 0.6667 - val_loss: 0.5787 - val_acc: 0.6667\n",
      "Epoch 5/5\n",
      "280/280 [==============================] - 3s 11ms/step - loss: 0.6073 - acc: 0.6667 - val_loss: 0.5735 - val_acc: 0.6667\n"
     ]
    }
   ],
   "source": [
    "history = model.fit(X_train, train_labels, epochs=epochs, batch_size=batch_size,validation_split=0.2, verbose=1, )"
   ]
  },
  {
   "cell_type": "markdown",
   "metadata": {},
   "source": [
    "Evaluate model performance"
   ]
  },
  {
   "cell_type": "code",
   "execution_count": 104,
   "metadata": {},
   "outputs": [
    {
     "name": "stdout",
     "output_type": "stream",
     "text": [
      "150/150 [==============================] - 0s 3ms/step\n",
      "Accuracy: 0.6666666865348816\n"
     ]
    }
   ],
   "source": [
    "test_labels = to_categorical(y_test, num_classes=variables_for_classification)\n",
    "score = model.evaluate(X_test, test_labels, verbose=1)\n",
    "print(\"Accuracy:\", score[1])"
   ]
  },
  {
   "cell_type": "markdown",
   "metadata": {},
   "source": [
    "Display how model accuracy is changing during epochs"
   ]
  },
  {
   "cell_type": "code",
   "execution_count": 5,
   "metadata": {},
   "outputs": [],
   "source": [
    "\n",
    "plt.plot(history.history['val_loss'])\n",
    "\n",
    "plt.title('model loss')\n",
    "plt.ylabel('loss')\n",
    "plt.xlabel('epoch')\n",
    "plt.legend(['train','test'])\n",
    "plt.show()\n"
   ]
  },
  {
   "attachments": {
    "image.png": {
     "image/png": "[encoded data removed]"
    }
   },
   "cell_type": "markdown",
   "metadata": {},
   "source": [
    "![image.png](attachment:image.png)"
   ]
  },
  {
   "cell_type": "markdown",
   "metadata": {},
   "source": [
    "As we can see  we can use the limit of 2 epochs because after that accuracy stays the same"
   ]
  },
  {
   "cell_type": "markdown",
   "metadata": {},
   "source": [
    "### Calculate normalized score for Drugs"
   ]
  },
  {
   "cell_type": "markdown",
   "metadata": {},
   "source": [
    "Now we calculate the *Normalized sentiment score* : <br/> \n",
    "\n",
    "&nbsp;&nbsp;&nbsp;&nbsp; **(Avegare Score) * (Number of Document with drug mentioned / Total Number of Documents)**\n",
    "<br/>\n",
    "\n",
    "and show Top-20 Drugs names with the highest normalized scores"
   ]
  },
  {
   "cell_type": "code",
   "execution_count": 88,
   "metadata": {},
   "outputs": [],
   "source": [
    "# Normalize Score\n",
    "drugs_scores_normalized ={}\n",
    "for key, value in drugs_scores.items():\n",
    "    #total drug's score\n",
    "    score = drugs_scores[key]\n",
    "    \n",
    "    #number of drug's scores\n",
    "    count = drugs_scores_num[key]\n",
    "    if count == 0:\n",
    "        count = 1\n",
    "    \n",
    "    #number of document with the drug mentioned\n",
    "    doc_count = drugs_scores_document[key]\n",
    "    \n",
    "    # Normalized score = summary score divided by number of scores and muplitly  \n",
    "    # the number of document with drug mentioned divided by total number of documents\n",
    "    norm_score = round((score / count) * (doc_count/document_count) * 100,2)\n",
    "    drugs_scores_normalized[key] = [norm_score, round((score / count) * 100,2), doc_count]\n",
    "    \n",
    "# Check Top 20 Drugs with highest normalized score\n",
    "drugs_scores_top = sorted(drugs_scores_normalized.items(), key=itemgetter(1), reverse = True) "
   ]
  },
  {
   "cell_type": "markdown",
   "metadata": {},
   "source": [
    "## 4.4 Covid-19 Drugs Final Scores   <a name=\"sentiment_analysis_final\"></a>"
   ]
  },
  {
   "cell_type": "markdown",
   "metadata": {},
   "source": [
    "And finally we will display a WordCloud chart with the Drugs Names"
   ]
  },
  {
   "cell_type": "code",
   "execution_count": 89,
   "metadata": {},
   "outputs": [
    {
     "data": {
      "text/html": [
       "<div>\n",
       "<style scoped>\n",
       "    .dataframe tbody tr th:only-of-type {\n",
       "        vertical-align: middle;\n",
       "    }\n",
       "\n",
       "    .dataframe tbody tr th {\n",
       "        vertical-align: top;\n",
       "    }\n",
       "\n",
       "    .dataframe thead th {\n",
       "        text-align: right;\n",
       "    }\n",
       "</style>\n",
       "<table border=\"1\" class=\"dataframe\">\n",
       "  <thead>\n",
       "    <tr style=\"text-align: right;\">\n",
       "      <th></th>\n",
       "      <th>drug</th>\n",
       "      <th>normalized score</th>\n",
       "      <th>scores</th>\n",
       "      <th>documents</th>\n",
       "    </tr>\n",
       "  </thead>\n",
       "  <tbody>\n",
       "    <tr>\n",
       "      <th>0</th>\n",
       "      <td>chloroquine</td>\n",
       "      <td>13.67</td>\n",
       "      <td>71.75</td>\n",
       "      <td>555</td>\n",
       "    </tr>\n",
       "    <tr>\n",
       "      <th>1</th>\n",
       "      <td>remdesivir</td>\n",
       "      <td>12.35</td>\n",
       "      <td>66.87</td>\n",
       "      <td>538</td>\n",
       "    </tr>\n",
       "    <tr>\n",
       "      <th>17</th>\n",
       "      <td>hydroxychloroquine</td>\n",
       "      <td>11.59</td>\n",
       "      <td>55.71</td>\n",
       "      <td>606</td>\n",
       "    </tr>\n",
       "    <tr>\n",
       "      <th>50</th>\n",
       "      <td>tocilizumab</td>\n",
       "      <td>6.95</td>\n",
       "      <td>70.79</td>\n",
       "      <td>286</td>\n",
       "    </tr>\n",
       "    <tr>\n",
       "      <th>44</th>\n",
       "      <td>lopinavir</td>\n",
       "      <td>5.62</td>\n",
       "      <td>71.47</td>\n",
       "      <td>229</td>\n",
       "    </tr>\n",
       "    <tr>\n",
       "      <th>46</th>\n",
       "      <td>ritonavir</td>\n",
       "      <td>4.86</td>\n",
       "      <td>71.43</td>\n",
       "      <td>198</td>\n",
       "    </tr>\n",
       "    <tr>\n",
       "      <th>19</th>\n",
       "      <td>azithromycin</td>\n",
       "      <td>3.69</td>\n",
       "      <td>38.64</td>\n",
       "      <td>278</td>\n",
       "    </tr>\n",
       "    <tr>\n",
       "      <th>31</th>\n",
       "      <td>ribavirin</td>\n",
       "      <td>3.33</td>\n",
       "      <td>56.04</td>\n",
       "      <td>173</td>\n",
       "    </tr>\n",
       "    <tr>\n",
       "      <th>63</th>\n",
       "      <td>arbidol</td>\n",
       "      <td>2.82</td>\n",
       "      <td>71.43</td>\n",
       "      <td>115</td>\n",
       "    </tr>\n",
       "    <tr>\n",
       "      <th>23</th>\n",
       "      <td>oseltamivir</td>\n",
       "      <td>2.35</td>\n",
       "      <td>48.48</td>\n",
       "      <td>141</td>\n",
       "    </tr>\n",
       "  </tbody>\n",
       "</table>\n",
       "</div>"
      ],
      "text/plain": [
       "                  drug  normalized score  scores  documents\n",
       "0          chloroquine             13.67   71.75        555\n",
       "1           remdesivir             12.35   66.87        538\n",
       "17  hydroxychloroquine             11.59   55.71        606\n",
       "50         tocilizumab              6.95   70.79        286\n",
       "44           lopinavir              5.62   71.47        229\n",
       "46           ritonavir              4.86   71.43        198\n",
       "19        azithromycin              3.69   38.64        278\n",
       "31           ribavirin              3.33   56.04        173\n",
       "63             arbidol              2.82   71.43        115\n",
       "23         oseltamivir              2.35   48.48        141"
      ]
     },
     "execution_count": 89,
     "metadata": {},
     "output_type": "execute_result"
    }
   ],
   "source": [
    "# Convert dictionary into Dataframe\n",
    "# sentiment statistics per drug\n",
    "df = pd.DataFrame([drugs_scores_normalized.keys(), drugs_scores_normalized.values()]).T\n",
    "df.columns = ['drug', 'score']\n",
    "df1 = pd.DataFrame(df['score'].to_list(), columns=[ 'normalized score', 'scores', 'documents'])\n",
    "df = pd.merge(df, df1, left_index=True, right_index=True)\n",
    "df\n",
    "del df['score']\n",
    "final_df = df.sort_values(by=['normalized score', 'scores', 'documents' ], ascending=False)\n",
    "final_df.head(10)"
   ]
  },
  {
   "cell_type": "code",
   "execution_count": 90,
   "metadata": {},
   "outputs": [],
   "source": [
    "data = dict(zip(final_df['drug'].tolist(), final_df['normalized score'].tolist()))"
   ]
  },
  {
   "cell_type": "code",
   "execution_count": 9,
   "metadata": {},
   "outputs": [],
   "source": [
    "wordcloud = WordCloud(\n",
    "        background_color='white',\n",
    "        max_words=100,\n",
    "        max_font_size=40, \n",
    "        scale=3,\n",
    "        random_state=1 \n",
    "    ).generate_from_frequencies(data)\n",
    "fig = plt.figure(1, figsize=(12, 12))\n",
    "plt.axis('off')\n",
    "fig.subplots_adjust(top=2.3)\n",
    "\n",
    "plt.imshow(wordcloud,cmap=plt.cm.gray, interpolation='bilinear')\n",
    "plt.show()"
   ]
  },
  {
   "attachments": {
    "image.png": {
     "image/png": "[encoded data removed]"
    }
   },
   "cell_type": "markdown",
   "metadata": {},
   "source": [
    "![image.png](attachment:image.png)"
   ]
  },
  {
   "attachments": {},
   "cell_type": "markdown",
   "metadata": {},
   "source": [
    "The Top-3 Drugs with the highest positive sentiments normalized scores were found with accuracy of 65%:\n",
    "Chloroquine with score 13.67 extracted from 555 documents (total, with any sentiments)\n",
    "Remdesivir with score 12.35 extracted from 538 documents (total, with any sentiments)\n",
    "Hydroxychloroquine with score 11.59 extracted from 606 documents (total, with any sentiments)\n",
    "\n",
    "Based on these in vitro findings, researchers rushed to study the effects of hydroxychloroquine and chloroquine in hospitalized patients with COVID-19. Early results were shared with the media, which led hospitals worldwide to start using these medications.\n",
    "\n",
    "In hospitalized patients with Covid-19 pneumonia who were not receiving mechanical ventilation, tocilizumab reduced the likelihood of progression to the composite outcome of mechanical ventilation or death, but it did not improve survival.\n"
   ]
  },
  {
   "cell_type": "code",
   "execution_count": null,
   "metadata": {},
   "outputs": [],
   "source": []
  }
 ],
 "metadata": {
  "kernelspec": {
   "display_name": "Python 3",
   "language": "python",
   "name": "python3"
  },
  "language_info": {
   "codemirror_mode": {
    "name": "ipython",
    "version": 3
   },
   "file_extension": ".py",
   "mimetype": "text/x-python",
   "name": "python",
   "nbconvert_exporter": "python",
   "pygments_lexer": "ipython3",
   "version": "3.7.3"
  }
 },
 "nbformat": 4,
 "nbformat_minor": 4
}
